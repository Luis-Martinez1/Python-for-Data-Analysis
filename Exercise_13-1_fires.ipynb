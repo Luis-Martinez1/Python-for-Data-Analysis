{
 "cells": [
  {
   "cell_type": "markdown",
   "metadata": {},
   "source": [
    "# Exercise 13-1: Another analysis of the Fires data"
   ]
  },
  {
   "cell_type": "code",
   "execution_count": 1,
   "metadata": {},
   "outputs": [],
   "source": [
    "import pandas as pd\n",
    "import seaborn as sns\n",
    "import geopandas as geo"
   ]
  },
  {
   "cell_type": "markdown",
   "metadata": {},
   "source": [
    "## Get the data"
   ]
  },
  {
   "cell_type": "code",
   "execution_count": 2,
   "metadata": {},
   "outputs": [],
   "source": [
    "df = pd.read_pickle('fires_clean.pkl')"
   ]
  },
  {
   "cell_type": "code",
   "execution_count": 3,
   "metadata": {},
   "outputs": [
    {
     "name": "stdout",
     "output_type": "stream",
     "text": [
      "<class 'pandas.core.frame.DataFrame'>\n",
      "Index: 274123 entries, 16 to 1880441\n",
      "Data columns (total 8 columns):\n",
      " #   Column          Non-Null Count   Dtype         \n",
      "---  ------          --------------   -----         \n",
      " 0   fire_name       128667 non-null  object        \n",
      " 1   acres_burned    274123 non-null  float64       \n",
      " 2   state           274123 non-null  object        \n",
      " 3   latitude        274123 non-null  float64       \n",
      " 4   longitude       274123 non-null  float64       \n",
      " 5   fire_year       274123 non-null  int64         \n",
      " 6   discovery_date  274123 non-null  datetime64[ns]\n",
      " 7   contain_date    137376 non-null  datetime64[ns]\n",
      "dtypes: datetime64[ns](2), float64(3), int64(1), object(2)\n",
      "memory usage: 18.8+ MB\n"
     ]
    }
   ],
   "source": [
    "df.info()"
   ]
  },
  {
   "cell_type": "markdown",
   "metadata": {},
   "source": [
    "## Clean and prepare the data"
   ]
  },
  {
   "cell_type": "code",
   "execution_count": 4,
   "metadata": {},
   "outputs": [],
   "source": [
    "# filter the data so it only contains fires for Alaska. Hint: the abbreviation for Alaska is AK\n",
    "\n",
    "df = df[df['state'] == 'AK']\n"
   ]
  },
  {
   "cell_type": "code",
   "execution_count": 5,
   "metadata": {},
   "outputs": [
    {
     "data": {
      "text/html": [
       "<div>\n",
       "<style scoped>\n",
       "    .dataframe tbody tr th:only-of-type {\n",
       "        vertical-align: middle;\n",
       "    }\n",
       "\n",
       "    .dataframe tbody tr th {\n",
       "        vertical-align: top;\n",
       "    }\n",
       "\n",
       "    .dataframe thead th {\n",
       "        text-align: right;\n",
       "    }\n",
       "</style>\n",
       "<table border=\"1\" class=\"dataframe\">\n",
       "  <thead>\n",
       "    <tr style=\"text-align: right;\">\n",
       "      <th></th>\n",
       "      <th>fire_name</th>\n",
       "      <th>acres_burned</th>\n",
       "      <th>state</th>\n",
       "      <th>latitude</th>\n",
       "      <th>longitude</th>\n",
       "      <th>fire_year</th>\n",
       "      <th>discovery_date</th>\n",
       "      <th>contain_date</th>\n",
       "    </tr>\n",
       "  </thead>\n",
       "  <tbody>\n",
       "    <tr>\n",
       "      <th>4628</th>\n",
       "      <td>Sheridan Glacier Fir</td>\n",
       "      <td>11.4</td>\n",
       "      <td>AK</td>\n",
       "      <td>60.506111</td>\n",
       "      <td>-145.343889</td>\n",
       "      <td>2005</td>\n",
       "      <td>2005-05-01</td>\n",
       "      <td>2005-05-02</td>\n",
       "    </tr>\n",
       "    <tr>\n",
       "      <th>6656</th>\n",
       "      <td>Muskeg</td>\n",
       "      <td>305.0</td>\n",
       "      <td>AK</td>\n",
       "      <td>59.087222</td>\n",
       "      <td>-135.441389</td>\n",
       "      <td>2005</td>\n",
       "      <td>2005-04-29</td>\n",
       "      <td>2005-05-06</td>\n",
       "    </tr>\n",
       "    <tr>\n",
       "      <th>41201</th>\n",
       "      <td>Seattle Creek</td>\n",
       "      <td>10.0</td>\n",
       "      <td>AK</td>\n",
       "      <td>60.873889</td>\n",
       "      <td>-149.120556</td>\n",
       "      <td>2009</td>\n",
       "      <td>2009-09-19</td>\n",
       "      <td>2009-11-23</td>\n",
       "    </tr>\n",
       "    <tr>\n",
       "      <th>53190</th>\n",
       "      <td>None</td>\n",
       "      <td>40.0</td>\n",
       "      <td>AK</td>\n",
       "      <td>60.500000</td>\n",
       "      <td>-149.866667</td>\n",
       "      <td>1992</td>\n",
       "      <td>1992-05-12</td>\n",
       "      <td>1992-05-13</td>\n",
       "    </tr>\n",
       "    <tr>\n",
       "      <th>75402</th>\n",
       "      <td>None</td>\n",
       "      <td>27.0</td>\n",
       "      <td>AK</td>\n",
       "      <td>57.918333</td>\n",
       "      <td>-134.956667</td>\n",
       "      <td>1993</td>\n",
       "      <td>1993-08-18</td>\n",
       "      <td>1993-08-20</td>\n",
       "    </tr>\n",
       "    <tr>\n",
       "      <th>...</th>\n",
       "      <td>...</td>\n",
       "      <td>...</td>\n",
       "      <td>...</td>\n",
       "      <td>...</td>\n",
       "      <td>...</td>\n",
       "      <td>...</td>\n",
       "      <td>...</td>\n",
       "      <td>...</td>\n",
       "    </tr>\n",
       "    <tr>\n",
       "      <th>1805259</th>\n",
       "      <td>Sinona Creek</td>\n",
       "      <td>257.6</td>\n",
       "      <td>AK</td>\n",
       "      <td>62.877150</td>\n",
       "      <td>-144.858267</td>\n",
       "      <td>2015</td>\n",
       "      <td>2015-06-24</td>\n",
       "      <td>2015-07-21</td>\n",
       "    </tr>\n",
       "    <tr>\n",
       "      <th>1805260</th>\n",
       "      <td>Goodpaster Valley</td>\n",
       "      <td>1000.0</td>\n",
       "      <td>AK</td>\n",
       "      <td>64.361555</td>\n",
       "      <td>-144.959527</td>\n",
       "      <td>2015</td>\n",
       "      <td>2015-06-20</td>\n",
       "      <td>NaT</td>\n",
       "    </tr>\n",
       "    <tr>\n",
       "      <th>1805262</th>\n",
       "      <td>Healy River</td>\n",
       "      <td>604.2</td>\n",
       "      <td>AK</td>\n",
       "      <td>63.966666</td>\n",
       "      <td>-144.576500</td>\n",
       "      <td>2015</td>\n",
       "      <td>2015-06-20</td>\n",
       "      <td>2015-08-23</td>\n",
       "    </tr>\n",
       "    <tr>\n",
       "      <th>1856890</th>\n",
       "      <td>Kokwok River</td>\n",
       "      <td>1825.0</td>\n",
       "      <td>AK</td>\n",
       "      <td>59.607750</td>\n",
       "      <td>-158.254194</td>\n",
       "      <td>2015</td>\n",
       "      <td>2015-06-20</td>\n",
       "      <td>2015-08-12</td>\n",
       "    </tr>\n",
       "    <tr>\n",
       "      <th>1856891</th>\n",
       "      <td>Moore Lake</td>\n",
       "      <td>25.0</td>\n",
       "      <td>AK</td>\n",
       "      <td>62.372300</td>\n",
       "      <td>-146.866500</td>\n",
       "      <td>2015</td>\n",
       "      <td>2015-06-23</td>\n",
       "      <td>2015-06-24</td>\n",
       "    </tr>\n",
       "  </tbody>\n",
       "</table>\n",
       "<p>2835 rows × 8 columns</p>\n",
       "</div>"
      ],
      "text/plain": [
       "                    fire_name  acres_burned state   latitude   longitude  \\\n",
       "4628     Sheridan Glacier Fir          11.4    AK  60.506111 -145.343889   \n",
       "6656                   Muskeg         305.0    AK  59.087222 -135.441389   \n",
       "41201           Seattle Creek          10.0    AK  60.873889 -149.120556   \n",
       "53190                    None          40.0    AK  60.500000 -149.866667   \n",
       "75402                    None          27.0    AK  57.918333 -134.956667   \n",
       "...                       ...           ...   ...        ...         ...   \n",
       "1805259          Sinona Creek         257.6    AK  62.877150 -144.858267   \n",
       "1805260     Goodpaster Valley        1000.0    AK  64.361555 -144.959527   \n",
       "1805262           Healy River         604.2    AK  63.966666 -144.576500   \n",
       "1856890          Kokwok River        1825.0    AK  59.607750 -158.254194   \n",
       "1856891            Moore Lake          25.0    AK  62.372300 -146.866500   \n",
       "\n",
       "         fire_year discovery_date contain_date  \n",
       "4628          2005     2005-05-01   2005-05-02  \n",
       "6656          2005     2005-04-29   2005-05-06  \n",
       "41201         2009     2009-09-19   2009-11-23  \n",
       "53190         1992     1992-05-12   1992-05-13  \n",
       "75402         1993     1993-08-18   1993-08-20  \n",
       "...            ...            ...          ...  \n",
       "1805259       2015     2015-06-24   2015-07-21  \n",
       "1805260       2015     2015-06-20          NaT  \n",
       "1805262       2015     2015-06-20   2015-08-23  \n",
       "1856890       2015     2015-06-20   2015-08-12  \n",
       "1856891       2015     2015-06-23   2015-06-24  \n",
       "\n",
       "[2835 rows x 8 columns]"
      ]
     },
     "execution_count": 5,
     "metadata": {},
     "output_type": "execute_result"
    }
   ],
   "source": [
    "df"
   ]
  },
  {
   "cell_type": "code",
   "execution_count": 6,
   "metadata": {},
   "outputs": [],
   "source": [
    "# filter the data so it only contains fires that burned at least 90 days and at least 100 acres\n",
    "\n",
    "\n",
    "# Calculate the duration of each fire by creating a new column\n",
    "df['days_burning'] = (df.contain_date - df.discovery_date).dt.days\n",
    "\n",
    "\n",
    "\n",
    "# Filter the DataFrame to include only fires with duration >= 90 days and acres burned >= 100\n",
    "df = df.query('days_burning >= 90 and acres_burned >= 100')\n",
    "\n"
   ]
  },
  {
   "cell_type": "code",
   "execution_count": 7,
   "metadata": {},
   "outputs": [
    {
     "data": {
      "text/html": [
       "<div>\n",
       "<style scoped>\n",
       "    .dataframe tbody tr th:only-of-type {\n",
       "        vertical-align: middle;\n",
       "    }\n",
       "\n",
       "    .dataframe tbody tr th {\n",
       "        vertical-align: top;\n",
       "    }\n",
       "\n",
       "    .dataframe thead th {\n",
       "        text-align: right;\n",
       "    }\n",
       "</style>\n",
       "<table border=\"1\" class=\"dataframe\">\n",
       "  <thead>\n",
       "    <tr style=\"text-align: right;\">\n",
       "      <th></th>\n",
       "      <th>fire_name</th>\n",
       "      <th>acres_burned</th>\n",
       "      <th>state</th>\n",
       "      <th>latitude</th>\n",
       "      <th>longitude</th>\n",
       "      <th>fire_year</th>\n",
       "      <th>discovery_date</th>\n",
       "      <th>contain_date</th>\n",
       "      <th>days_burning</th>\n",
       "    </tr>\n",
       "  </thead>\n",
       "  <tbody>\n",
       "    <tr>\n",
       "      <th>210516</th>\n",
       "      <td>332248</td>\n",
       "      <td>36250.0</td>\n",
       "      <td>AK</td>\n",
       "      <td>65.799500</td>\n",
       "      <td>-149.719200</td>\n",
       "      <td>1993</td>\n",
       "      <td>1993-06-04</td>\n",
       "      <td>1993-09-03</td>\n",
       "      <td>91.0</td>\n",
       "    </tr>\n",
       "    <tr>\n",
       "      <th>210546</th>\n",
       "      <td>3322292</td>\n",
       "      <td>47494.0</td>\n",
       "      <td>AK</td>\n",
       "      <td>66.116400</td>\n",
       "      <td>-142.869200</td>\n",
       "      <td>1993</td>\n",
       "      <td>1993-06-06</td>\n",
       "      <td>1993-09-08</td>\n",
       "      <td>94.0</td>\n",
       "    </tr>\n",
       "    <tr>\n",
       "      <th>210831</th>\n",
       "      <td>404275</td>\n",
       "      <td>43329.7</td>\n",
       "      <td>AK</td>\n",
       "      <td>62.782700</td>\n",
       "      <td>-155.419000</td>\n",
       "      <td>1994</td>\n",
       "      <td>1994-06-13</td>\n",
       "      <td>1994-09-22</td>\n",
       "      <td>101.0</td>\n",
       "    </tr>\n",
       "    <tr>\n",
       "      <th>210855</th>\n",
       "      <td>412312</td>\n",
       "      <td>22420.0</td>\n",
       "      <td>AK</td>\n",
       "      <td>63.832900</td>\n",
       "      <td>-145.285600</td>\n",
       "      <td>1994</td>\n",
       "      <td>1994-06-14</td>\n",
       "      <td>1994-10-04</td>\n",
       "      <td>112.0</td>\n",
       "    </tr>\n",
       "    <tr>\n",
       "      <th>211030</th>\n",
       "      <td>Gal Ne 76</td>\n",
       "      <td>2780.0</td>\n",
       "      <td>AK</td>\n",
       "      <td>65.832800</td>\n",
       "      <td>-155.369300</td>\n",
       "      <td>1995</td>\n",
       "      <td>1995-07-16</td>\n",
       "      <td>1995-10-16</td>\n",
       "      <td>92.0</td>\n",
       "    </tr>\n",
       "    <tr>\n",
       "      <th>...</th>\n",
       "      <td>...</td>\n",
       "      <td>...</td>\n",
       "      <td>...</td>\n",
       "      <td>...</td>\n",
       "      <td>...</td>\n",
       "      <td>...</td>\n",
       "      <td>...</td>\n",
       "      <td>...</td>\n",
       "      <td>...</td>\n",
       "    </tr>\n",
       "    <tr>\n",
       "      <th>1804903</th>\n",
       "      <td>15449 Sushgitit Hills</td>\n",
       "      <td>276038.1</td>\n",
       "      <td>AK</td>\n",
       "      <td>65.801162</td>\n",
       "      <td>-153.470071</td>\n",
       "      <td>2015</td>\n",
       "      <td>2015-06-21</td>\n",
       "      <td>2015-09-29</td>\n",
       "      <td>100.0</td>\n",
       "    </tr>\n",
       "    <tr>\n",
       "      <th>1804904</th>\n",
       "      <td>15579 Totson</td>\n",
       "      <td>4223.7</td>\n",
       "      <td>AK</td>\n",
       "      <td>64.473167</td>\n",
       "      <td>-157.292028</td>\n",
       "      <td>2015</td>\n",
       "      <td>2015-06-22</td>\n",
       "      <td>2015-09-28</td>\n",
       "      <td>98.0</td>\n",
       "    </tr>\n",
       "    <tr>\n",
       "      <th>1804999</th>\n",
       "      <td>Hickey Creek</td>\n",
       "      <td>33131.0</td>\n",
       "      <td>AK</td>\n",
       "      <td>62.624555</td>\n",
       "      <td>-157.597750</td>\n",
       "      <td>2015</td>\n",
       "      <td>2015-06-20</td>\n",
       "      <td>2015-09-21</td>\n",
       "      <td>93.0</td>\n",
       "    </tr>\n",
       "    <tr>\n",
       "      <th>1805072</th>\n",
       "      <td>Rock Creek</td>\n",
       "      <td>9178.0</td>\n",
       "      <td>AK</td>\n",
       "      <td>61.186833</td>\n",
       "      <td>-154.635666</td>\n",
       "      <td>2015</td>\n",
       "      <td>2015-06-23</td>\n",
       "      <td>2015-09-21</td>\n",
       "      <td>90.0</td>\n",
       "    </tr>\n",
       "    <tr>\n",
       "      <th>1805095</th>\n",
       "      <td>Maybe Creek</td>\n",
       "      <td>8681.0</td>\n",
       "      <td>AK</td>\n",
       "      <td>62.773611</td>\n",
       "      <td>-157.282194</td>\n",
       "      <td>2015</td>\n",
       "      <td>2015-06-21</td>\n",
       "      <td>2015-09-21</td>\n",
       "      <td>92.0</td>\n",
       "    </tr>\n",
       "  </tbody>\n",
       "</table>\n",
       "<p>235 rows × 9 columns</p>\n",
       "</div>"
      ],
      "text/plain": [
       "                     fire_name  acres_burned state   latitude   longitude  \\\n",
       "210516                  332248       36250.0    AK  65.799500 -149.719200   \n",
       "210546                 3322292       47494.0    AK  66.116400 -142.869200   \n",
       "210831                  404275       43329.7    AK  62.782700 -155.419000   \n",
       "210855                  412312       22420.0    AK  63.832900 -145.285600   \n",
       "211030               Gal Ne 76        2780.0    AK  65.832800 -155.369300   \n",
       "...                        ...           ...   ...        ...         ...   \n",
       "1804903  15449 Sushgitit Hills      276038.1    AK  65.801162 -153.470071   \n",
       "1804904           15579 Totson        4223.7    AK  64.473167 -157.292028   \n",
       "1804999           Hickey Creek       33131.0    AK  62.624555 -157.597750   \n",
       "1805072             Rock Creek        9178.0    AK  61.186833 -154.635666   \n",
       "1805095            Maybe Creek        8681.0    AK  62.773611 -157.282194   \n",
       "\n",
       "         fire_year discovery_date contain_date  days_burning  \n",
       "210516        1993     1993-06-04   1993-09-03          91.0  \n",
       "210546        1993     1993-06-06   1993-09-08          94.0  \n",
       "210831        1994     1994-06-13   1994-09-22         101.0  \n",
       "210855        1994     1994-06-14   1994-10-04         112.0  \n",
       "211030        1995     1995-07-16   1995-10-16          92.0  \n",
       "...            ...            ...          ...           ...  \n",
       "1804903       2015     2015-06-21   2015-09-29         100.0  \n",
       "1804904       2015     2015-06-22   2015-09-28          98.0  \n",
       "1804999       2015     2015-06-20   2015-09-21          93.0  \n",
       "1805072       2015     2015-06-23   2015-09-21          90.0  \n",
       "1805095       2015     2015-06-21   2015-09-21          92.0  \n",
       "\n",
       "[235 rows x 9 columns]"
      ]
     },
     "execution_count": 7,
     "metadata": {},
     "output_type": "execute_result"
    }
   ],
   "source": [
    "df"
   ]
  },
  {
   "cell_type": "code",
   "execution_count": 8,
   "metadata": {},
   "outputs": [
    {
     "data": {
      "text/plain": [
       "count     235.000000\n",
       "mean      111.531915\n",
       "std        66.788815\n",
       "min        90.000000\n",
       "25%        97.000000\n",
       "50%       103.000000\n",
       "75%       113.500000\n",
       "90%       127.000000\n",
       "95%       142.300000\n",
       "max      1101.000000\n",
       "Name: days_burning, dtype: float64"
      ]
     },
     "execution_count": 8,
     "metadata": {},
     "output_type": "execute_result"
    }
   ],
   "source": [
    "# find the outliers in the days_burning column\n",
    "\n",
    "df.days_burning.describe(percentiles=[.25,.50,.75,.90,.95])"
   ]
  },
  {
   "cell_type": "code",
   "execution_count": 9,
   "metadata": {},
   "outputs": [
    {
     "data": {
      "text/plain": [
       "<Axes: >"
      ]
     },
     "execution_count": 9,
     "metadata": {},
     "output_type": "execute_result"
    },
    {
     "data": {
      "image/png": "[encoded data removed]",
      "text/plain": [
       "<Figure size 640x480 with 1 Axes>"
      ]
     },
     "metadata": {},
     "output_type": "display_data"
    }
   ],
   "source": [
    "df.days_burning.plot.box()"
   ]
  },
  {
   "cell_type": "code",
   "execution_count": 10,
   "metadata": {},
   "outputs": [],
   "source": [
    "# filter the data to remove rows that have outliers in the days_burning column\n",
    "df = df.query('days_burning <= 200')\n"
   ]
  },
  {
   "cell_type": "code",
   "execution_count": 11,
   "metadata": {},
   "outputs": [
    {
     "data": {
      "text/html": [
       "<div>\n",
       "<style scoped>\n",
       "    .dataframe tbody tr th:only-of-type {\n",
       "        vertical-align: middle;\n",
       "    }\n",
       "\n",
       "    .dataframe tbody tr th {\n",
       "        vertical-align: top;\n",
       "    }\n",
       "\n",
       "    .dataframe thead th {\n",
       "        text-align: right;\n",
       "    }\n",
       "</style>\n",
       "<table border=\"1\" class=\"dataframe\">\n",
       "  <thead>\n",
       "    <tr style=\"text-align: right;\">\n",
       "      <th></th>\n",
       "      <th>fire_name</th>\n",
       "      <th>acres_burned</th>\n",
       "      <th>state</th>\n",
       "      <th>latitude</th>\n",
       "      <th>longitude</th>\n",
       "      <th>fire_year</th>\n",
       "      <th>discovery_date</th>\n",
       "      <th>contain_date</th>\n",
       "      <th>days_burning</th>\n",
       "    </tr>\n",
       "  </thead>\n",
       "  <tbody>\n",
       "    <tr>\n",
       "      <th>210516</th>\n",
       "      <td>332248</td>\n",
       "      <td>36250.0</td>\n",
       "      <td>AK</td>\n",
       "      <td>65.7995</td>\n",
       "      <td>-149.7192</td>\n",
       "      <td>1993</td>\n",
       "      <td>1993-06-04</td>\n",
       "      <td>1993-09-03</td>\n",
       "      <td>91.0</td>\n",
       "    </tr>\n",
       "    <tr>\n",
       "      <th>210546</th>\n",
       "      <td>3322292</td>\n",
       "      <td>47494.0</td>\n",
       "      <td>AK</td>\n",
       "      <td>66.1164</td>\n",
       "      <td>-142.8692</td>\n",
       "      <td>1993</td>\n",
       "      <td>1993-06-06</td>\n",
       "      <td>1993-09-08</td>\n",
       "      <td>94.0</td>\n",
       "    </tr>\n",
       "    <tr>\n",
       "      <th>210831</th>\n",
       "      <td>404275</td>\n",
       "      <td>43329.7</td>\n",
       "      <td>AK</td>\n",
       "      <td>62.7827</td>\n",
       "      <td>-155.4190</td>\n",
       "      <td>1994</td>\n",
       "      <td>1994-06-13</td>\n",
       "      <td>1994-09-22</td>\n",
       "      <td>101.0</td>\n",
       "    </tr>\n",
       "    <tr>\n",
       "      <th>210855</th>\n",
       "      <td>412312</td>\n",
       "      <td>22420.0</td>\n",
       "      <td>AK</td>\n",
       "      <td>63.8329</td>\n",
       "      <td>-145.2856</td>\n",
       "      <td>1994</td>\n",
       "      <td>1994-06-14</td>\n",
       "      <td>1994-10-04</td>\n",
       "      <td>112.0</td>\n",
       "    </tr>\n",
       "    <tr>\n",
       "      <th>211030</th>\n",
       "      <td>Gal Ne 76</td>\n",
       "      <td>2780.0</td>\n",
       "      <td>AK</td>\n",
       "      <td>65.8328</td>\n",
       "      <td>-155.3693</td>\n",
       "      <td>1995</td>\n",
       "      <td>1995-07-16</td>\n",
       "      <td>1995-10-16</td>\n",
       "      <td>92.0</td>\n",
       "    </tr>\n",
       "  </tbody>\n",
       "</table>\n",
       "</div>"
      ],
      "text/plain": [
       "        fire_name  acres_burned state  latitude  longitude  fire_year  \\\n",
       "210516     332248       36250.0    AK   65.7995  -149.7192       1993   \n",
       "210546    3322292       47494.0    AK   66.1164  -142.8692       1993   \n",
       "210831     404275       43329.7    AK   62.7827  -155.4190       1994   \n",
       "210855     412312       22420.0    AK   63.8329  -145.2856       1994   \n",
       "211030  Gal Ne 76        2780.0    AK   65.8328  -155.3693       1995   \n",
       "\n",
       "       discovery_date contain_date  days_burning  \n",
       "210516     1993-06-04   1993-09-03          91.0  \n",
       "210546     1993-06-06   1993-09-08          94.0  \n",
       "210831     1994-06-13   1994-09-22         101.0  \n",
       "210855     1994-06-14   1994-10-04         112.0  \n",
       "211030     1995-07-16   1995-10-16          92.0  "
      ]
     },
     "execution_count": 11,
     "metadata": {},
     "output_type": "execute_result"
    }
   ],
   "source": [
    "# display the first five rows\n",
    "df.head()"
   ]
  },
  {
   "cell_type": "markdown",
   "metadata": {},
   "source": [
    "## Plot the data"
   ]
  },
  {
   "cell_type": "code",
   "execution_count": 12,
   "metadata": {},
   "outputs": [
    {
     "name": "stderr",
     "output_type": "stream",
     "text": [
      "/opt/homebrew/anaconda3/lib/python3.11/site-packages/seaborn/axisgrid.py:118: UserWarning: The figure layout has changed to tight\n",
      "  self._figure.tight_layout(*args, **kwargs)\n"
     ]
    },
    {
     "data": {
      "image/png": "[encoded data removed]",
      "text/plain": [
       "<Figure size 500x500 with 1 Axes>"
      ]
     },
     "metadata": {},
     "output_type": "display_data"
    }
   ],
   "source": [
    "# create a scatterplot that compares acres burned with days burning\n",
    "# add a title for the plot and labels for the x and y axes\n",
    "\n",
    "\n",
    "g = sns.relplot(data=df, x='acres_burned', y='days_burning')\n",
    "\n",
    "for ax in g.axes.flat:\n",
    "    ax.set(title='Acres Burned v.s. Days Burning', \n",
    "           ylabel='Days Burning', xlabel='Acres Burned')"
   ]
  },
  {
   "cell_type": "code",
   "execution_count": null,
   "metadata": {},
   "outputs": [],
   "source": [
    "# use Geopandas to read the shapes of the maps for the United States\n",
    "usa = geo.read_file('States_shapefile.shp')"
   ]
  },
  {
   "cell_type": "code",
   "execution_count": null,
   "metadata": {},
   "outputs": [],
   "source": [
    "# plot an outline of the map of Alaska\n",
    "\n",
    "ak_map = usa[usa.STATE_ABBR == 'AK']"
   ]
  },
  {
   "cell_type": "code",
   "execution_count": null,
   "metadata": {},
   "outputs": [],
   "source": [
    "# plot the fires on the outline map with Seaborn\n",
    "\n",
    "ak_map.plot(color='white', edgecolor='black')"
   ]
  },
  {
   "cell_type": "code",
   "execution_count": null,
   "metadata": {},
   "outputs": [],
   "source": [
    "# increase the size of the plot\n",
    "\n",
    "ak_map.plot(color='white', edgecolor='black')\n",
    "ax = sns.scatterplot(data=fires, x='longitude', y='latitude')"
   ]
  },
  {
   "cell_type": "code",
   "execution_count": null,
   "metadata": {},
   "outputs": [],
   "source": [
    "# modify the plot to change dot color with the number of days the fire has been burning\n",
    "\n",
    "# increase the size on the plot from the previous cell\n",
    "ak_map.plot(color='white', edgecolor='black', figsize=(16,8))\n",
    "ax = sns.scatterplot(data=fires, x='longitude', y='latitude')"
   ]
  },
  {
   "cell_type": "code",
   "execution_count": null,
   "metadata": {},
   "outputs": [],
   "source": [
    "# modify the plot to use shades of red for the dot color\n",
    "# modify the map so that the color of the dots changes with length of the fire\n",
    "ak_map.plot(color='white', edgecolor='black', figsize=(16,8))\n",
    "ax = sns.scatterplot(data=fires, x='longitude', y='latitude', hue='days_burning')\n"
   ]
  },
  {
   "cell_type": "code",
   "execution_count": null,
   "metadata": {},
   "outputs": [],
   "source": [
    "# modify the plot to change the size of the dots depending on the number of days burning\n",
    "# modify the color of the dots to use a reversed gradient colormap \n",
    "# hint: remember that you can reverse a colormap by adding _r to the colormap name\n",
    "ak_map.plot(color='white', edgecolor='black', figsize=(16,8))\n",
    "ax = sns.scatterplot(data=fires, x='longitude', y='latitude', hue='days_burning', palette='flare')\n"
   ]
  },
  {
   "cell_type": "code",
   "execution_count": null,
   "metadata": {},
   "outputs": [],
   "source": [
    "# modify the map so that the acres burned will control the size of the dots\n",
    "ak_map.plot(color='white', edgecolor='black', figsize=(16,8))\n",
    "ax = sns.scatterplot(data=fires, x='longitude', y='latitude', \n",
    "                     hue='days_burning', palette='flare', \n",
    "                     size='days_burning', sizes=(10,200))"
   ]
  }
 ],
 "metadata": {
  "kernelspec": {
   "display_name": "Python 3 (ipykernel)",
   "language": "python",
   "name": "python3"
  },
  "language_info": {
   "codemirror_mode": {
    "name": "ipython",
    "version": 3
   },
   "file_extension": ".py",
   "mimetype": "text/x-python",
   "name": "python",
   "nbconvert_exporter": "python",
   "pygments_lexer": "ipython3",
   "version": "3.11.5"
  }
 },
 "nbformat": 4,
 "nbformat_minor": 4
}
