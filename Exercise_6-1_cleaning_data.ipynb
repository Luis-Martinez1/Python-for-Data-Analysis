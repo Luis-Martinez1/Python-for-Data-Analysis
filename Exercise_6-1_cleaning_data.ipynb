{
 "cells": [
  {
   "cell_type": "markdown",
   "metadata": {},
   "source": [
    "# Exercise 6-1: Clean the Polling data"
   ]
  },
  {
   "cell_type": "markdown",
   "metadata": {},
   "source": [
    "## Read the data"
   ]
  },
  {
   "cell_type": "code",
   "execution_count": 1,
   "metadata": {},
   "outputs": [],
   "source": [
    "import pandas as pd"
   ]
  },
  {
   "cell_type": "code",
   "execution_count": 2,
   "metadata": {},
   "outputs": [],
   "source": [
    "polls = pd.read_csv('president_polls_2016.csv')"
   ]
  },
  {
   "cell_type": "code",
   "execution_count": 22,
   "metadata": {},
   "outputs": [
    {
     "data": {
      "text/html": [
       "<div>\n",
       "<style scoped>\n",
       "    .dataframe tbody tr th:only-of-type {\n",
       "        vertical-align: middle;\n",
       "    }\n",
       "\n",
       "    .dataframe tbody tr th {\n",
       "        vertical-align: top;\n",
       "    }\n",
       "\n",
       "    .dataframe thead th {\n",
       "        text-align: right;\n",
       "    }\n",
       "</style>\n",
       "<table border=\"1\" class=\"dataframe\">\n",
       "  <thead>\n",
       "    <tr style=\"text-align: right;\">\n",
       "      <th></th>\n",
       "      <th>cycle</th>\n",
       "      <th>branch</th>\n",
       "      <th>type</th>\n",
       "      <th>matchup</th>\n",
       "      <th>forecastdate</th>\n",
       "      <th>state</th>\n",
       "      <th>startdate</th>\n",
       "      <th>enddate</th>\n",
       "      <th>pollster</th>\n",
       "      <th>grade</th>\n",
       "      <th>...</th>\n",
       "      <th>adjpoll_clinton</th>\n",
       "      <th>adjpoll_trump</th>\n",
       "      <th>adjpoll_johnson</th>\n",
       "      <th>adjpoll_mcmullin</th>\n",
       "      <th>multiversions</th>\n",
       "      <th>url</th>\n",
       "      <th>poll_id</th>\n",
       "      <th>question_id</th>\n",
       "      <th>createddate</th>\n",
       "      <th>timestamp</th>\n",
       "    </tr>\n",
       "  </thead>\n",
       "  <tbody>\n",
       "    <tr>\n",
       "      <th>0</th>\n",
       "      <td>2016</td>\n",
       "      <td>President</td>\n",
       "      <td>polls-plus</td>\n",
       "      <td>Clinton vs. Trump vs. Johnson</td>\n",
       "      <td>11/8/16</td>\n",
       "      <td>U.S.</td>\n",
       "      <td>11/3/2016</td>\n",
       "      <td>11/6/2016</td>\n",
       "      <td>ABC News/Washington Post</td>\n",
       "      <td>A+</td>\n",
       "      <td>...</td>\n",
       "      <td>45.20163</td>\n",
       "      <td>41.72430</td>\n",
       "      <td>4.626221</td>\n",
       "      <td>NaN</td>\n",
       "      <td>NaN</td>\n",
       "      <td>https://www.washingtonpost.com/news/the-fix/wp...</td>\n",
       "      <td>48630</td>\n",
       "      <td>76192</td>\n",
       "      <td>11/7/16</td>\n",
       "      <td>09:35:33  8 Nov 2016</td>\n",
       "    </tr>\n",
       "    <tr>\n",
       "      <th>1</th>\n",
       "      <td>2016</td>\n",
       "      <td>President</td>\n",
       "      <td>polls-plus</td>\n",
       "      <td>Clinton vs. Trump vs. Johnson</td>\n",
       "      <td>11/8/16</td>\n",
       "      <td>U.S.</td>\n",
       "      <td>11/1/2016</td>\n",
       "      <td>11/7/2016</td>\n",
       "      <td>Google Consumer Surveys</td>\n",
       "      <td>B</td>\n",
       "      <td>...</td>\n",
       "      <td>43.34557</td>\n",
       "      <td>41.21439</td>\n",
       "      <td>5.175792</td>\n",
       "      <td>NaN</td>\n",
       "      <td>NaN</td>\n",
       "      <td>https://datastudio.google.com/u/0/#/org//repor...</td>\n",
       "      <td>48847</td>\n",
       "      <td>76443</td>\n",
       "      <td>11/7/16</td>\n",
       "      <td>09:35:33  8 Nov 2016</td>\n",
       "    </tr>\n",
       "    <tr>\n",
       "      <th>2</th>\n",
       "      <td>2016</td>\n",
       "      <td>President</td>\n",
       "      <td>polls-plus</td>\n",
       "      <td>Clinton vs. Trump vs. Johnson</td>\n",
       "      <td>11/8/16</td>\n",
       "      <td>U.S.</td>\n",
       "      <td>11/2/2016</td>\n",
       "      <td>11/6/2016</td>\n",
       "      <td>Ipsos</td>\n",
       "      <td>A-</td>\n",
       "      <td>...</td>\n",
       "      <td>42.02638</td>\n",
       "      <td>38.81620</td>\n",
       "      <td>6.844734</td>\n",
       "      <td>NaN</td>\n",
       "      <td>NaN</td>\n",
       "      <td>http://projects.fivethirtyeight.com/polls/2016...</td>\n",
       "      <td>48922</td>\n",
       "      <td>76636</td>\n",
       "      <td>11/8/16</td>\n",
       "      <td>09:35:33  8 Nov 2016</td>\n",
       "    </tr>\n",
       "    <tr>\n",
       "      <th>3</th>\n",
       "      <td>2016</td>\n",
       "      <td>President</td>\n",
       "      <td>polls-plus</td>\n",
       "      <td>Clinton vs. Trump vs. Johnson</td>\n",
       "      <td>11/8/16</td>\n",
       "      <td>U.S.</td>\n",
       "      <td>11/4/2016</td>\n",
       "      <td>11/7/2016</td>\n",
       "      <td>YouGov</td>\n",
       "      <td>B</td>\n",
       "      <td>...</td>\n",
       "      <td>45.65676</td>\n",
       "      <td>40.92004</td>\n",
       "      <td>6.069454</td>\n",
       "      <td>NaN</td>\n",
       "      <td>NaN</td>\n",
       "      <td>https://d25d2506sfb94s.cloudfront.net/cumulus_...</td>\n",
       "      <td>48687</td>\n",
       "      <td>76262</td>\n",
       "      <td>11/7/16</td>\n",
       "      <td>09:35:33  8 Nov 2016</td>\n",
       "    </tr>\n",
       "    <tr>\n",
       "      <th>4</th>\n",
       "      <td>2016</td>\n",
       "      <td>President</td>\n",
       "      <td>polls-plus</td>\n",
       "      <td>Clinton vs. Trump vs. Johnson</td>\n",
       "      <td>11/8/16</td>\n",
       "      <td>U.S.</td>\n",
       "      <td>11/3/2016</td>\n",
       "      <td>11/6/2016</td>\n",
       "      <td>Gravis Marketing</td>\n",
       "      <td>B-</td>\n",
       "      <td>...</td>\n",
       "      <td>46.84089</td>\n",
       "      <td>42.33184</td>\n",
       "      <td>3.726098</td>\n",
       "      <td>NaN</td>\n",
       "      <td>NaN</td>\n",
       "      <td>http://www.gravispolls.com/2016/11/final-natio...</td>\n",
       "      <td>48848</td>\n",
       "      <td>76444</td>\n",
       "      <td>11/7/16</td>\n",
       "      <td>09:35:33  8 Nov 2016</td>\n",
       "    </tr>\n",
       "  </tbody>\n",
       "</table>\n",
       "<p>5 rows × 27 columns</p>\n",
       "</div>"
      ],
      "text/plain": [
       "   cycle     branch        type                        matchup forecastdate  \\\n",
       "0   2016  President  polls-plus  Clinton vs. Trump vs. Johnson      11/8/16   \n",
       "1   2016  President  polls-plus  Clinton vs. Trump vs. Johnson      11/8/16   \n",
       "2   2016  President  polls-plus  Clinton vs. Trump vs. Johnson      11/8/16   \n",
       "3   2016  President  polls-plus  Clinton vs. Trump vs. Johnson      11/8/16   \n",
       "4   2016  President  polls-plus  Clinton vs. Trump vs. Johnson      11/8/16   \n",
       "\n",
       "  state  startdate    enddate                  pollster grade  ...  \\\n",
       "0  U.S.  11/3/2016  11/6/2016  ABC News/Washington Post    A+  ...   \n",
       "1  U.S.  11/1/2016  11/7/2016   Google Consumer Surveys     B  ...   \n",
       "2  U.S.  11/2/2016  11/6/2016                     Ipsos    A-  ...   \n",
       "3  U.S.  11/4/2016  11/7/2016                    YouGov     B  ...   \n",
       "4  U.S.  11/3/2016  11/6/2016          Gravis Marketing    B-  ...   \n",
       "\n",
       "   adjpoll_clinton adjpoll_trump  adjpoll_johnson  adjpoll_mcmullin  \\\n",
       "0         45.20163      41.72430         4.626221               NaN   \n",
       "1         43.34557      41.21439         5.175792               NaN   \n",
       "2         42.02638      38.81620         6.844734               NaN   \n",
       "3         45.65676      40.92004         6.069454               NaN   \n",
       "4         46.84089      42.33184         3.726098               NaN   \n",
       "\n",
       "   multiversions                                                url  poll_id  \\\n",
       "0            NaN  https://www.washingtonpost.com/news/the-fix/wp...    48630   \n",
       "1            NaN  https://datastudio.google.com/u/0/#/org//repor...    48847   \n",
       "2            NaN  http://projects.fivethirtyeight.com/polls/2016...    48922   \n",
       "3            NaN  https://d25d2506sfb94s.cloudfront.net/cumulus_...    48687   \n",
       "4            NaN  http://www.gravispolls.com/2016/11/final-natio...    48848   \n",
       "\n",
       "   question_id  createddate             timestamp  \n",
       "0        76192      11/7/16  09:35:33  8 Nov 2016  \n",
       "1        76443      11/7/16  09:35:33  8 Nov 2016  \n",
       "2        76636      11/8/16  09:35:33  8 Nov 2016  \n",
       "3        76262      11/7/16  09:35:33  8 Nov 2016  \n",
       "4        76444      11/7/16  09:35:33  8 Nov 2016  \n",
       "\n",
       "[5 rows x 27 columns]"
      ]
     },
     "execution_count": 22,
     "metadata": {},
     "output_type": "execute_result"
    }
   ],
   "source": [
    "polls.head()"
   ]
  },
  {
   "cell_type": "markdown",
   "metadata": {},
   "source": [
    "## Examine the data"
   ]
  },
  {
   "cell_type": "code",
   "execution_count": 21,
   "metadata": {},
   "outputs": [
    {
     "name": "stdout",
     "output_type": "stream",
     "text": [
      "<class 'pandas.core.frame.DataFrame'>\n",
      "RangeIndex: 12624 entries, 0 to 12623\n",
      "Data columns (total 27 columns):\n",
      " #   Column            Non-Null Count  Dtype  \n",
      "---  ------            --------------  -----  \n",
      " 0   cycle             12624 non-null  int64  \n",
      " 1   branch            12624 non-null  object \n",
      " 2   type              12624 non-null  object \n",
      " 3   matchup           12624 non-null  object \n",
      " 4   forecastdate      12624 non-null  object \n",
      " 5   state             12624 non-null  object \n",
      " 6   startdate         12624 non-null  object \n",
      " 7   enddate           12624 non-null  object \n",
      " 8   pollster          12624 non-null  object \n",
      " 9   grade             11337 non-null  object \n",
      " 10  samplesize        12621 non-null  float64\n",
      " 11  population        12624 non-null  object \n",
      " 12  poll_wt           12624 non-null  float64\n",
      " 13  rawpoll_clinton   12624 non-null  float64\n",
      " 14  rawpoll_trump     12624 non-null  float64\n",
      " 15  rawpoll_johnson   8397 non-null   float64\n",
      " 16  rawpoll_mcmullin  90 non-null     float64\n",
      " 17  adjpoll_clinton   12624 non-null  float64\n",
      " 18  adjpoll_trump     12624 non-null  float64\n",
      " 19  adjpoll_johnson   8397 non-null   float64\n",
      " 20  adjpoll_mcmullin  90 non-null     float64\n",
      " 21  multiversions     36 non-null     object \n",
      " 22  url               12621 non-null  object \n",
      " 23  poll_id           12624 non-null  int64  \n",
      " 24  question_id       12624 non-null  int64  \n",
      " 25  createddate       12624 non-null  object \n",
      " 26  timestamp         12624 non-null  object \n",
      "dtypes: float64(10), int64(3), object(14)\n",
      "memory usage: 12.9 MB\n"
     ]
    }
   ],
   "source": [
    "# run the info() method on the data\n",
    "polls.info(memory_usage='deep')"
   ]
  },
  {
   "cell_type": "code",
   "execution_count": null,
   "metadata": {},
   "outputs": [],
   "source": [
    "\"\"\" Converting to a diffferent data type can reduce the size of the data. \n",
    " Object tpyes have a lot of meta data compared to category data types which have less \n",
    " extra data baggage. Change object to category and watch the memory useage go down\"\"\""
   ]
  },
  {
   "cell_type": "code",
   "execution_count": 23,
   "metadata": {},
   "outputs": [
    {
     "data": {
      "text/plain": [
       "cycle                   1\n",
       "branch                  1\n",
       "type                    3\n",
       "matchup                 1\n",
       "forecastdate            1\n",
       "state                  57\n",
       "startdate             352\n",
       "enddate               345\n",
       "pollster              196\n",
       "grade                  10\n",
       "samplesize           1766\n",
       "population              4\n",
       "poll_wt              4399\n",
       "rawpoll_clinton      1312\n",
       "rawpoll_trump        1385\n",
       "rawpoll_johnson       584\n",
       "rawpoll_mcmullin       16\n",
       "adjpoll_clinton     12569\n",
       "adjpoll_trump       12582\n",
       "adjpoll_johnson      6629\n",
       "adjpoll_mcmullin       57\n",
       "multiversions           1\n",
       "url                  1304\n",
       "poll_id              4208\n",
       "question_id          4208\n",
       "createddate           222\n",
       "timestamp               3\n",
       "dtype: int64"
      ]
     },
     "execution_count": 23,
     "metadata": {},
     "output_type": "execute_result"
    }
   ],
   "source": [
    "# run the nunique() method on the data\n",
    "polls.nunique()"
   ]
  },
  {
   "cell_type": "code",
   "execution_count": 26,
   "metadata": {},
   "outputs": [
    {
     "data": {
      "text/plain": [
       "cycle                                                          [2016]\n",
       "branch                                                    [President]\n",
       "type                               [polls-plus, now-cast, polls-only]\n",
       "matchup                               [Clinton vs. Trump vs. Johnson]\n",
       "forecastdate                                                [11/8/16]\n",
       "state               [U.S., New Mexico, Virginia, Iowa, Wisconsin, ...\n",
       "startdate           [11/3/2016, 11/1/2016, 11/2/2016, 11/4/2016, 1...\n",
       "enddate             [11/6/2016, 11/7/2016, 11/5/2016, 11/4/2016, 1...\n",
       "pollster            [ABC News/Washington Post, Google Consumer Sur...\n",
       "grade                       [A+, B, A-, B-, A, nan, B+, C+, C-, C, D]\n",
       "samplesize          [2220.0, 26574.0, 2195.0, 3677.0, 16639.0, 129...\n",
       "population                                             [lv, rv, a, v]\n",
       "poll_wt             [8.720654, 7.628472, 6.424334, 6.087135, 5.316...\n",
       "rawpoll_clinton     [47.0, 38.03, 42.0, 45.0, 48.0, 44.0, 46.0, 41...\n",
       "rawpoll_trump       [43.0, 35.69, 39.0, 41.0, 44.0, 40.0, 42.7, 46...\n",
       "rawpoll_johnson     [4.0, 5.46, 6.0, 5.0, 3.0, 7.1, 1.0, 2.0, nan,...\n",
       "rawpoll_mcmullin    [nan, 24.0, 27.6, 24.52, 25.0, 21.0, 28.0, 30....\n",
       "adjpoll_clinton     [45.20163, 43.34557, 42.02638, 45.65676, 46.84...\n",
       "adjpoll_trump       [41.7243, 41.21439, 38.8162, 40.92004, 42.3318...\n",
       "adjpoll_johnson     [4.626221, 5.175792, 6.844734, 6.069454, 3.726...\n",
       "adjpoll_mcmullin    [nan, 24.0, 27.70142, 24.13522, 24.52, 25.0, 2...\n",
       "multiversions                                                [nan, *]\n",
       "url                 [https://www.washingtonpost.com/news/the-fix/w...\n",
       "poll_id             [48630, 48847, 48922, 48687, 48848, 48619, 485...\n",
       "question_id         [76192, 76443, 76636, 76262, 76444, 76163, 760...\n",
       "createddate         [11/7/16, 11/8/16, 11/6/16, 11/4/16, 11/5/16, ...\n",
       "timestamp           [09:35:33  8 Nov 2016, 09:24:53  8 Nov 2016, 0...\n",
       "dtype: object"
      ]
     },
     "execution_count": 26,
     "metadata": {},
     "output_type": "execute_result"
    }
   ],
   "source": [
    "#partial results for a unique() method that gets the unique values\n",
    "polls.apply(pd.unique)"
   ]
  },
  {
   "cell_type": "code",
   "execution_count": 33,
   "metadata": {},
   "outputs": [
    {
     "data": {
      "text/plain": [
       "url\n",
       "https://datastudio.google.com/u/0/#/org//reporting/0B29GVb5ISrT0TGk1TW5tVF9Ed2M/page/GsS                           1407\n",
       "https://www.surveymonkey.com/elections/map?poll=sm-lv-cps                                                          1377\n",
       "http://www.reuters.com/statesofthenation/                                                                          1149\n",
       "https://drive.google.com/drive/u/0/folders/0B29GVb5ISrT0VzFQWjFSWGcyeVE                                             765\n",
       "http://polling.reuters.com/#poll/TM651Y15_13/filters/LIKELY:1                                                       519\n",
       "                                                                                                                   ... \n",
       "http://endcitizensunited.org/wp-content/uploads/2016/09/ECUPA16m2-090916.pdf                                          3\n",
       "http://dfw.cbslocal.com/2016/10/05/trump-leads-clinton-gains-in-latest-texas-ktvt-cbs-11-dixie-strategies-poll/       3\n",
       "https://today.yougov.com/news/2016/10/27/yougoveconomist-poll-october-22-26-2016/                                     3\n",
       "https://docs.google.com/spreadsheets/d/1Lmzgp1uILz6KoAiS4J7ygTkvm0dgdoMdV4ZW32dMlGk/edit#gid=0                        3\n",
       "http://www.epicmra.com/press/Stwd_Survey_Jan2016_Media_Freq.pdf                                                       3\n",
       "Name: count, Length: 1304, dtype: int64"
      ]
     },
     "execution_count": 33,
     "metadata": {},
     "output_type": "execute_result"
    }
   ],
   "source": [
    "# using value counts which is like doing a group by and using the count() method\n",
    "polls['url'].value_counts()\n",
    "# polls.state.value_counts()\n",
    "\n",
    "# you can use the parameter normalize = True and get the proportion \n",
    "# if there are any values null it wont count them so use parameter dropna=False\n",
    "# polls.multiversions.value_counts(dropna=False)"
   ]
  },
  {
   "cell_type": "code",
   "execution_count": 35,
   "metadata": {},
   "outputs": [
    {
     "data": {
      "text/plain": [
       "state          grade\n",
       "U.S.           A-       1215\n",
       "               C+        546\n",
       "               B         162\n",
       "               C-        126\n",
       "               A+        114\n",
       "                        ... \n",
       "Nebraska CD-1  B           3\n",
       "Indiana        A           3\n",
       "Nebraska CD-2  B           3\n",
       "Missouri       A           3\n",
       "Mississippi    C           3\n",
       "Name: count, Length: 321, dtype: int64"
      ]
     },
     "execution_count": 35,
     "metadata": {},
     "output_type": "execute_result"
    }
   ],
   "source": [
    "# values counts on multiple comulmns\n",
    "polls[['state', 'grade']].value_counts()"
   ]
  },
  {
   "cell_type": "markdown",
   "metadata": {},
   "source": [
    "## Drop columns and rows"
   ]
  },
  {
   "cell_type": "code",
   "execution_count": 38,
   "metadata": {},
   "outputs": [
    {
     "data": {
      "text/plain": [
       "type\n",
       "polls-plus    4208\n",
       "now-cast      4208\n",
       "polls-only    4208\n",
       "Name: count, dtype: int64"
      ]
     },
     "execution_count": 38,
     "metadata": {},
     "output_type": "execute_result"
    }
   ],
   "source": [
    "polls.type.value_counts()"
   ]
  },
  {
   "cell_type": "code",
   "execution_count": 40,
   "metadata": {
    "scrolled": true
   },
   "outputs": [
    {
     "data": {
      "text/plain": [
       "(4208, 27)"
      ]
     },
     "execution_count": 40,
     "metadata": {},
     "output_type": "execute_result"
    }
   ],
   "source": [
    "# drop all rows except where the column is \"now-cast\"\n",
    "# drop rows based on conditions\n",
    "# polls = \n",
    "\n",
    "polls[polls.type == 'now-cast'].shape"
   ]
  },
  {
   "cell_type": "code",
   "execution_count": null,
   "metadata": {},
   "outputs": [],
   "source": [
    "# checks if there are duplicated rows. you want to drop any duplicate rows for ML. \n",
    "polls.duplicated().sum()"
   ]
  },
  {
   "cell_type": "code",
   "execution_count": 6,
   "metadata": {},
   "outputs": [],
   "source": [
    "# run the nunique() method again"
   ]
  },
  {
   "cell_type": "code",
   "execution_count": 51,
   "metadata": {},
   "outputs": [
    {
     "name": "stdout",
     "output_type": "stream",
     "text": [
      "<class 'pandas.core.frame.DataFrame'>\n",
      "RangeIndex: 12624 entries, 0 to 12623\n",
      "Data columns (total 25 columns):\n",
      " #   Column            Non-Null Count  Dtype  \n",
      "---  ------            --------------  -----  \n",
      " 0   type              12624 non-null  object \n",
      " 1   matchup           12624 non-null  object \n",
      " 2   forecastdate      12624 non-null  object \n",
      " 3   state             12624 non-null  object \n",
      " 4   startdate         12624 non-null  object \n",
      " 5   enddate           12624 non-null  object \n",
      " 6   pollster          12624 non-null  object \n",
      " 7   grade             11337 non-null  object \n",
      " 8   samplesize        12621 non-null  float64\n",
      " 9   population        12624 non-null  object \n",
      " 10  poll_wt           12624 non-null  float64\n",
      " 11  rawpoll_clinton   12624 non-null  float64\n",
      " 12  rawpoll_trump     12624 non-null  float64\n",
      " 13  rawpoll_johnson   8397 non-null   float64\n",
      " 14  rawpoll_mcmullin  90 non-null     float64\n",
      " 15  adjpoll_clinton   12624 non-null  float64\n",
      " 16  adjpoll_trump     12624 non-null  float64\n",
      " 17  adjpoll_johnson   8397 non-null   float64\n",
      " 18  adjpoll_mcmullin  90 non-null     float64\n",
      " 19  multiversions     36 non-null     object \n",
      " 20  url               12621 non-null  object \n",
      " 21  poll_id           12624 non-null  int64  \n",
      " 22  question_id       12624 non-null  int64  \n",
      " 23  createddate       12624 non-null  object \n",
      " 24  timestamp         12624 non-null  object \n",
      "dtypes: float64(10), int64(2), object(13)\n",
      "memory usage: 2.4+ MB\n"
     ]
    }
   ],
   "source": [
    "# drop columns with a single value\n",
    "polls.drop(columns=['cycle', 'branch'], inplace=True)\n",
    "polls.info()"
   ]
  },
  {
   "cell_type": "code",
   "execution_count": 8,
   "metadata": {},
   "outputs": [],
   "source": [
    "# drop rows with \"U.S.\" for the state"
   ]
  },
  {
   "cell_type": "markdown",
   "metadata": {},
   "source": [
    "## Rename columns"
   ]
  },
  {
   "cell_type": "code",
   "execution_count": 53,
   "metadata": {},
   "outputs": [
    {
     "data": {
      "text/plain": [
       "Index(['type', 'matchup', 'forecastdate', 'state', 'startdate', 'enddate',\n",
       "       'pollster', 'grade', 'samplesize', 'population', 'poll_wt',\n",
       "       'rawpoll_clinton', 'rawpoll_trump', 'rawpoll_johnson',\n",
       "       'rawpoll_mcmullin', 'adjpoll_clinton', 'adjpoll_trump',\n",
       "       'adjpoll_johnson', 'adjpoll_mcmullin', 'multiversions', 'url',\n",
       "       'poll_id', 'question_id', 'createddate', 'timestamp'],\n",
       "      dtype='object')"
      ]
     },
     "execution_count": 53,
     "metadata": {},
     "output_type": "execute_result"
    }
   ],
   "source": [
    "# rename all the rawpoll_* columns\n",
    "\n",
    "# first check the header names\n",
    "polls.columns\n"
   ]
  },
  {
   "cell_type": "code",
   "execution_count": 54,
   "metadata": {},
   "outputs": [
    {
     "data": {
      "text/plain": [
       "Index(['type', 'matchup', 'forecastdate', 'state', 'startdate', 'enddate',\n",
       "       'pollster', 'grade', 'samplesize', 'population', 'poll_wt',\n",
       "       'clinton_pct', 'trump_pct', 'rawpoll_johnson', 'rawpoll_mcmullin',\n",
       "       'adjpoll_clinton', 'adjpoll_trump', 'adjpoll_johnson',\n",
       "       'adjpoll_mcmullin', 'multiversions', 'url', 'poll_id', 'question_id',\n",
       "       'createddate', 'timestamp'],\n",
       "      dtype='object')"
      ]
     },
     "execution_count": 54,
     "metadata": {},
     "output_type": "execute_result"
    }
   ],
   "source": [
    "polls = polls.rename(columns={'rawpoll_clinton':'clinton_pct', 'rawpoll_trump':'trump_pct'})\n",
    "polls.columns"
   ]
  },
  {
   "cell_type": "code",
   "execution_count": 55,
   "metadata": {},
   "outputs": [
    {
     "name": "stdout",
     "output_type": "stream",
     "text": [
      "<class 'pandas.core.frame.DataFrame'>\n",
      "RangeIndex: 12624 entries, 0 to 12623\n",
      "Data columns (total 25 columns):\n",
      " #   Column            Non-Null Count  Dtype  \n",
      "---  ------            --------------  -----  \n",
      " 0   type              12624 non-null  object \n",
      " 1   matchup           12624 non-null  object \n",
      " 2   forecastdate      12624 non-null  object \n",
      " 3   state             12624 non-null  object \n",
      " 4   startdate         12624 non-null  object \n",
      " 5   enddate           12624 non-null  object \n",
      " 6   pollster          12624 non-null  object \n",
      " 7   grade             11337 non-null  object \n",
      " 8   samplesize        12621 non-null  float64\n",
      " 9   population        12624 non-null  object \n",
      " 10  poll_wt           12624 non-null  float64\n",
      " 11  clinton_pct       12624 non-null  float64\n",
      " 12  trump_pct         12624 non-null  float64\n",
      " 13  rawpoll_johnson   8397 non-null   float64\n",
      " 14  rawpoll_mcmullin  90 non-null     float64\n",
      " 15  adjpoll_clinton   12624 non-null  float64\n",
      " 16  adjpoll_trump     12624 non-null  float64\n",
      " 17  adjpoll_johnson   8397 non-null   float64\n",
      " 18  adjpoll_mcmullin  90 non-null     float64\n",
      " 19  multiversions     36 non-null     object \n",
      " 20  url               12621 non-null  object \n",
      " 21  poll_id           12624 non-null  int64  \n",
      " 22  question_id       12624 non-null  int64  \n",
      " 23  createddate       12624 non-null  object \n",
      " 24  timestamp         12624 non-null  object \n",
      "dtypes: float64(10), int64(2), object(13)\n",
      "memory usage: 2.4+ MB\n"
     ]
    }
   ],
   "source": [
    "polls.info()"
   ]
  },
  {
   "cell_type": "code",
   "execution_count": 62,
   "metadata": {},
   "outputs": [
    {
     "data": {
      "text/plain": [
       "type                    0\n",
       "matchup                 0\n",
       "forecastdate            0\n",
       "state                   0\n",
       "startdate               0\n",
       "enddate                 0\n",
       "pollster                0\n",
       "grade                1287\n",
       "samplesize              3\n",
       "population              0\n",
       "poll_wt                 0\n",
       "clinton_pct             0\n",
       "trump_pct               0\n",
       "rawpoll_johnson      4227\n",
       "rawpoll_mcmullin    12534\n",
       "adjpoll_clinton         0\n",
       "adjpoll_trump           0\n",
       "adjpoll_johnson      4227\n",
       "adjpoll_mcmullin    12534\n",
       "multiversions       12588\n",
       "url                     3\n",
       "poll_id                 0\n",
       "question_id             0\n",
       "createddate             0\n",
       "timestamp               0\n",
       "dtype: int64"
      ]
     },
     "execution_count": 62,
     "metadata": {},
     "output_type": "execute_result"
    }
   ],
   "source": [
    "# how to display the count of the missing values\n",
    "\n",
    "polls.isnull().sum()"
   ]
  },
  {
   "cell_type": "code",
   "execution_count": 63,
   "metadata": {},
   "outputs": [
    {
     "data": {
      "text/plain": [
       "type                    0\n",
       "matchup                 0\n",
       "forecastdate            0\n",
       "state                   0\n",
       "startdate               0\n",
       "enddate                 0\n",
       "pollster                0\n",
       "grade                1287\n",
       "samplesize              3\n",
       "population              0\n",
       "poll_wt                 0\n",
       "clinton_pct             0\n",
       "trump_pct               0\n",
       "rawpoll_johnson      4227\n",
       "rawpoll_mcmullin    12534\n",
       "adjpoll_clinton         0\n",
       "adjpoll_trump           0\n",
       "adjpoll_johnson      4227\n",
       "adjpoll_mcmullin    12534\n",
       "multiversions       12588\n",
       "url                     3\n",
       "poll_id                 0\n",
       "question_id             0\n",
       "createddate             0\n",
       "timestamp               0\n",
       "dtype: int64"
      ]
     },
     "execution_count": 63,
     "metadata": {},
     "output_type": "execute_result"
    }
   ],
   "source": [
    "# how to display the count of the missing values\n",
    "#polls_missing_count = \n",
    "polls.shape[0] - polls.count()"
   ]
  },
  {
   "cell_type": "code",
   "execution_count": 67,
   "metadata": {},
   "outputs": [],
   "source": [
    "# use the mode to impute the value into the missing values\n",
    "polls.grade.value_counts()\n",
    "polls.grade = polls.grade.fillna(value=\"A-\")"
   ]
  },
  {
   "cell_type": "code",
   "execution_count": 69,
   "metadata": {},
   "outputs": [
    {
     "data": {
      "text/plain": [
       "type                    0\n",
       "matchup                 0\n",
       "forecastdate            0\n",
       "state                   0\n",
       "startdate               0\n",
       "enddate                 0\n",
       "pollster                0\n",
       "grade                   0\n",
       "samplesize              3\n",
       "population              0\n",
       "poll_wt                 0\n",
       "clinton_pct             0\n",
       "trump_pct               0\n",
       "rawpoll_johnson      4227\n",
       "rawpoll_mcmullin    12534\n",
       "adjpoll_clinton         0\n",
       "adjpoll_trump           0\n",
       "adjpoll_johnson      4227\n",
       "adjpoll_mcmullin    12534\n",
       "multiversions       12588\n",
       "url                     3\n",
       "poll_id                 0\n",
       "question_id             0\n",
       "createddate             0\n",
       "timestamp               0\n",
       "dtype: int64"
      ]
     },
     "execution_count": 69,
     "metadata": {},
     "output_type": "execute_result"
    }
   ],
   "source": [
    "# check if your fill na worked\n",
    "polls.isnull().sum()"
   ]
  },
  {
   "cell_type": "code",
   "execution_count": 73,
   "metadata": {},
   "outputs": [
    {
     "data": {
      "text/html": [
       "<div>\n",
       "<style scoped>\n",
       "    .dataframe tbody tr th:only-of-type {\n",
       "        vertical-align: middle;\n",
       "    }\n",
       "\n",
       "    .dataframe tbody tr th {\n",
       "        vertical-align: top;\n",
       "    }\n",
       "\n",
       "    .dataframe thead th {\n",
       "        text-align: right;\n",
       "    }\n",
       "</style>\n",
       "<table border=\"1\" class=\"dataframe\">\n",
       "  <thead>\n",
       "    <tr style=\"text-align: right;\">\n",
       "      <th></th>\n",
       "      <th>samplesize</th>\n",
       "      <th>poll_wt</th>\n",
       "      <th>clinton_pct</th>\n",
       "      <th>trump_pct</th>\n",
       "      <th>rawpoll_johnson</th>\n",
       "      <th>rawpoll_mcmullin</th>\n",
       "      <th>adjpoll_clinton</th>\n",
       "      <th>adjpoll_trump</th>\n",
       "      <th>adjpoll_johnson</th>\n",
       "      <th>adjpoll_mcmullin</th>\n",
       "      <th>poll_id</th>\n",
       "      <th>question_id</th>\n",
       "    </tr>\n",
       "  </thead>\n",
       "  <tbody>\n",
       "    <tr>\n",
       "      <th>0</th>\n",
       "      <td>2220.0</td>\n",
       "      <td>8.720654</td>\n",
       "      <td>47.00</td>\n",
       "      <td>43.00</td>\n",
       "      <td>4.00</td>\n",
       "      <td>NaN</td>\n",
       "      <td>45.20163</td>\n",
       "      <td>41.72430</td>\n",
       "      <td>4.626221</td>\n",
       "      <td>NaN</td>\n",
       "      <td>48630</td>\n",
       "      <td>76192</td>\n",
       "    </tr>\n",
       "    <tr>\n",
       "      <th>1</th>\n",
       "      <td>26574.0</td>\n",
       "      <td>7.628472</td>\n",
       "      <td>38.03</td>\n",
       "      <td>35.69</td>\n",
       "      <td>5.46</td>\n",
       "      <td>NaN</td>\n",
       "      <td>43.34557</td>\n",
       "      <td>41.21439</td>\n",
       "      <td>5.175792</td>\n",
       "      <td>NaN</td>\n",
       "      <td>48847</td>\n",
       "      <td>76443</td>\n",
       "    </tr>\n",
       "    <tr>\n",
       "      <th>2</th>\n",
       "      <td>2195.0</td>\n",
       "      <td>6.424334</td>\n",
       "      <td>42.00</td>\n",
       "      <td>39.00</td>\n",
       "      <td>6.00</td>\n",
       "      <td>NaN</td>\n",
       "      <td>42.02638</td>\n",
       "      <td>38.81620</td>\n",
       "      <td>6.844734</td>\n",
       "      <td>NaN</td>\n",
       "      <td>48922</td>\n",
       "      <td>76636</td>\n",
       "    </tr>\n",
       "    <tr>\n",
       "      <th>3</th>\n",
       "      <td>3677.0</td>\n",
       "      <td>6.087135</td>\n",
       "      <td>45.00</td>\n",
       "      <td>41.00</td>\n",
       "      <td>5.00</td>\n",
       "      <td>NaN</td>\n",
       "      <td>45.65676</td>\n",
       "      <td>40.92004</td>\n",
       "      <td>6.069454</td>\n",
       "      <td>NaN</td>\n",
       "      <td>48687</td>\n",
       "      <td>76262</td>\n",
       "    </tr>\n",
       "    <tr>\n",
       "      <th>4</th>\n",
       "      <td>16639.0</td>\n",
       "      <td>5.316449</td>\n",
       "      <td>47.00</td>\n",
       "      <td>43.00</td>\n",
       "      <td>3.00</td>\n",
       "      <td>NaN</td>\n",
       "      <td>46.84089</td>\n",
       "      <td>42.33184</td>\n",
       "      <td>3.726098</td>\n",
       "      <td>NaN</td>\n",
       "      <td>48848</td>\n",
       "      <td>76444</td>\n",
       "    </tr>\n",
       "    <tr>\n",
       "      <th>...</th>\n",
       "      <td>...</td>\n",
       "      <td>...</td>\n",
       "      <td>...</td>\n",
       "      <td>...</td>\n",
       "      <td>...</td>\n",
       "      <td>...</td>\n",
       "      <td>...</td>\n",
       "      <td>...</td>\n",
       "      <td>...</td>\n",
       "      <td>...</td>\n",
       "      <td>...</td>\n",
       "      <td>...</td>\n",
       "    </tr>\n",
       "    <tr>\n",
       "      <th>12619</th>\n",
       "      <td>469.0</td>\n",
       "      <td>0.000000</td>\n",
       "      <td>37.00</td>\n",
       "      <td>37.00</td>\n",
       "      <td>10.00</td>\n",
       "      <td>NaN</td>\n",
       "      <td>40.24983</td>\n",
       "      <td>43.04717</td>\n",
       "      <td>6.924110</td>\n",
       "      <td>NaN</td>\n",
       "      <td>44650</td>\n",
       "      <td>68189</td>\n",
       "    </tr>\n",
       "    <tr>\n",
       "      <th>12620</th>\n",
       "      <td>653.0</td>\n",
       "      <td>0.000000</td>\n",
       "      <td>47.48</td>\n",
       "      <td>38.96</td>\n",
       "      <td>NaN</td>\n",
       "      <td>NaN</td>\n",
       "      <td>46.54218</td>\n",
       "      <td>38.96884</td>\n",
       "      <td>NaN</td>\n",
       "      <td>NaN</td>\n",
       "      <td>48259</td>\n",
       "      <td>75560</td>\n",
       "    </tr>\n",
       "    <tr>\n",
       "      <th>12621</th>\n",
       "      <td>717.0</td>\n",
       "      <td>0.000000</td>\n",
       "      <td>50.00</td>\n",
       "      <td>25.00</td>\n",
       "      <td>9.00</td>\n",
       "      <td>NaN</td>\n",
       "      <td>53.83622</td>\n",
       "      <td>32.47939</td>\n",
       "      <td>3.881193</td>\n",
       "      <td>NaN</td>\n",
       "      <td>44852</td>\n",
       "      <td>68743</td>\n",
       "    </tr>\n",
       "    <tr>\n",
       "      <th>12622</th>\n",
       "      <td>479.0</td>\n",
       "      <td>0.000000</td>\n",
       "      <td>50.49</td>\n",
       "      <td>39.05</td>\n",
       "      <td>NaN</td>\n",
       "      <td>NaN</td>\n",
       "      <td>49.57558</td>\n",
       "      <td>39.96954</td>\n",
       "      <td>NaN</td>\n",
       "      <td>NaN</td>\n",
       "      <td>46675</td>\n",
       "      <td>72969</td>\n",
       "    </tr>\n",
       "    <tr>\n",
       "      <th>12623</th>\n",
       "      <td>666.0</td>\n",
       "      <td>0.000000</td>\n",
       "      <td>46.00</td>\n",
       "      <td>37.00</td>\n",
       "      <td>NaN</td>\n",
       "      <td>NaN</td>\n",
       "      <td>46.40999</td>\n",
       "      <td>39.19839</td>\n",
       "      <td>NaN</td>\n",
       "      <td>NaN</td>\n",
       "      <td>44341</td>\n",
       "      <td>66966</td>\n",
       "    </tr>\n",
       "  </tbody>\n",
       "</table>\n",
       "<p>12624 rows × 12 columns</p>\n",
       "</div>"
      ],
      "text/plain": [
       "       samplesize   poll_wt  clinton_pct  trump_pct  rawpoll_johnson  \\\n",
       "0          2220.0  8.720654        47.00      43.00             4.00   \n",
       "1         26574.0  7.628472        38.03      35.69             5.46   \n",
       "2          2195.0  6.424334        42.00      39.00             6.00   \n",
       "3          3677.0  6.087135        45.00      41.00             5.00   \n",
       "4         16639.0  5.316449        47.00      43.00             3.00   \n",
       "...           ...       ...          ...        ...              ...   \n",
       "12619       469.0  0.000000        37.00      37.00            10.00   \n",
       "12620       653.0  0.000000        47.48      38.96              NaN   \n",
       "12621       717.0  0.000000        50.00      25.00             9.00   \n",
       "12622       479.0  0.000000        50.49      39.05              NaN   \n",
       "12623       666.0  0.000000        46.00      37.00              NaN   \n",
       "\n",
       "       rawpoll_mcmullin  adjpoll_clinton  adjpoll_trump  adjpoll_johnson  \\\n",
       "0                   NaN         45.20163       41.72430         4.626221   \n",
       "1                   NaN         43.34557       41.21439         5.175792   \n",
       "2                   NaN         42.02638       38.81620         6.844734   \n",
       "3                   NaN         45.65676       40.92004         6.069454   \n",
       "4                   NaN         46.84089       42.33184         3.726098   \n",
       "...                 ...              ...            ...              ...   \n",
       "12619               NaN         40.24983       43.04717         6.924110   \n",
       "12620               NaN         46.54218       38.96884              NaN   \n",
       "12621               NaN         53.83622       32.47939         3.881193   \n",
       "12622               NaN         49.57558       39.96954              NaN   \n",
       "12623               NaN         46.40999       39.19839              NaN   \n",
       "\n",
       "       adjpoll_mcmullin  poll_id  question_id  \n",
       "0                   NaN    48630        76192  \n",
       "1                   NaN    48847        76443  \n",
       "2                   NaN    48922        76636  \n",
       "3                   NaN    48687        76262  \n",
       "4                   NaN    48848        76444  \n",
       "...                 ...      ...          ...  \n",
       "12619               NaN    44650        68189  \n",
       "12620               NaN    48259        75560  \n",
       "12621               NaN    44852        68743  \n",
       "12622               NaN    46675        72969  \n",
       "12623               NaN    44341        66966  \n",
       "\n",
       "[12624 rows x 12 columns]"
      ]
     },
     "execution_count": 73,
     "metadata": {},
     "output_type": "execute_result"
    }
   ],
   "source": [
    "import numpy as np\n",
    "polls.select_dtypes(np.number)"
   ]
  },
  {
   "cell_type": "markdown",
   "metadata": {},
   "source": [
    "## Fix data types"
   ]
  },
  {
   "cell_type": "code",
   "execution_count": 10,
   "metadata": {},
   "outputs": [],
   "source": [
    "# run the info() method again"
   ]
  },
  {
   "cell_type": "code",
   "execution_count": 11,
   "metadata": {},
   "outputs": [],
   "source": [
    "# create a list of columns that should be datetimes"
   ]
  },
  {
   "cell_type": "code",
   "execution_count": 12,
   "metadata": {},
   "outputs": [],
   "source": [
    "# convert the columns to datetime"
   ]
  },
  {
   "cell_type": "code",
   "execution_count": 13,
   "metadata": {},
   "outputs": [],
   "source": [
    "# convert the state and population columns to categories"
   ]
  }
 ],
 "metadata": {
  "kernelspec": {
   "display_name": "Python 3 (ipykernel)",
   "language": "python",
   "name": "python3"
  },
  "language_info": {
   "codemirror_mode": {
    "name": "ipython",
    "version": 3
   },
   "file_extension": ".py",
   "mimetype": "text/x-python",
   "name": "python",
   "nbconvert_exporter": "python",
   "pygments_lexer": "ipython3",
   "version": "3.11.5"
  }
 },
 "nbformat": 4,
 "nbformat_minor": 4
}
