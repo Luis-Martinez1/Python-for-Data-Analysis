{
 "cells": [
  {
   "cell_type": "markdown",
   "metadata": {},
   "source": [
    "# Exercise 7-1: Prepare the Polls data"
   ]
  },
  {
   "cell_type": "markdown",
   "metadata": {},
   "source": [
    "## Read the data"
   ]
  },
  {
   "cell_type": "code",
   "execution_count": 1,
   "metadata": {},
   "outputs": [],
   "source": [
    "import pandas as pd"
   ]
  },
  {
   "cell_type": "code",
   "execution_count": 2,
   "metadata": {},
   "outputs": [],
   "source": [
    "df = pd.read_csv('president_polls_2016.csv')"
   ]
  },
  {
   "cell_type": "code",
   "execution_count": 3,
   "metadata": {},
   "outputs": [
    {
     "name": "stdout",
     "output_type": "stream",
     "text": [
      "<class 'pandas.core.frame.DataFrame'>\n",
      "RangeIndex: 12624 entries, 0 to 12623\n",
      "Data columns (total 27 columns):\n",
      " #   Column            Non-Null Count  Dtype  \n",
      "---  ------            --------------  -----  \n",
      " 0   cycle             12624 non-null  int64  \n",
      " 1   branch            12624 non-null  object \n",
      " 2   type              12624 non-null  object \n",
      " 3   matchup           12624 non-null  object \n",
      " 4   forecastdate      12624 non-null  object \n",
      " 5   state             12624 non-null  object \n",
      " 6   startdate         12624 non-null  object \n",
      " 7   enddate           12624 non-null  object \n",
      " 8   pollster          12624 non-null  object \n",
      " 9   grade             11337 non-null  object \n",
      " 10  samplesize        12621 non-null  float64\n",
      " 11  population        12624 non-null  object \n",
      " 12  poll_wt           12624 non-null  float64\n",
      " 13  rawpoll_clinton   12624 non-null  float64\n",
      " 14  rawpoll_trump     12624 non-null  float64\n",
      " 15  rawpoll_johnson   8397 non-null   float64\n",
      " 16  rawpoll_mcmullin  90 non-null     float64\n",
      " 17  adjpoll_clinton   12624 non-null  float64\n",
      " 18  adjpoll_trump     12624 non-null  float64\n",
      " 19  adjpoll_johnson   8397 non-null   float64\n",
      " 20  adjpoll_mcmullin  90 non-null     float64\n",
      " 21  multiversions     36 non-null     object \n",
      " 22  url               12621 non-null  object \n",
      " 23  poll_id           12624 non-null  int64  \n",
      " 24  question_id       12624 non-null  int64  \n",
      " 25  createddate       12624 non-null  object \n",
      " 26  timestamp         12624 non-null  object \n",
      "dtypes: float64(10), int64(3), object(14)\n",
      "memory usage: 2.6+ MB\n"
     ]
    }
   ],
   "source": [
    "# display the first 5 rows\n",
    "df.info()"
   ]
  },
  {
   "cell_type": "code",
   "execution_count": 6,
   "metadata": {},
   "outputs": [
    {
     "name": "stderr",
     "output_type": "stream",
     "text": [
      "/var/folders/6q/0n2ckzv123v3y8qcqf864bp80000gn/T/ipykernel_16126/4079279906.py:5: UserWarning: Could not infer format, so each element will be parsed individually, falling back to `dateutil`. To ensure parsing is consistent and as-expected, please specify a format.\n",
      "  df[date_columns]=df[date_columns].apply(pd.to_datetime)\n"
     ]
    }
   ],
   "source": [
    "# cast the date columns into data time\n",
    "date_columns =['startdate', 'enddate', 'forecastdate', 'createddate', 'timestamp']\n",
    "\n",
    "\n",
    "df[date_columns]=df[date_columns].apply(pd.to_datetime)"
   ]
  },
  {
   "cell_type": "code",
   "execution_count": 7,
   "metadata": {},
   "outputs": [
    {
     "name": "stdout",
     "output_type": "stream",
     "text": [
      "<class 'pandas.core.frame.DataFrame'>\n",
      "RangeIndex: 12624 entries, 0 to 12623\n",
      "Data columns (total 27 columns):\n",
      " #   Column            Non-Null Count  Dtype         \n",
      "---  ------            --------------  -----         \n",
      " 0   cycle             12624 non-null  int64         \n",
      " 1   branch            12624 non-null  object        \n",
      " 2   type              12624 non-null  object        \n",
      " 3   matchup           12624 non-null  object        \n",
      " 4   forecastdate      12624 non-null  datetime64[ns]\n",
      " 5   state             12624 non-null  object        \n",
      " 6   startdate         12624 non-null  datetime64[ns]\n",
      " 7   enddate           12624 non-null  datetime64[ns]\n",
      " 8   pollster          12624 non-null  object        \n",
      " 9   grade             11337 non-null  object        \n",
      " 10  samplesize        12621 non-null  float64       \n",
      " 11  population        12624 non-null  object        \n",
      " 12  poll_wt           12624 non-null  float64       \n",
      " 13  rawpoll_clinton   12624 non-null  float64       \n",
      " 14  rawpoll_trump     12624 non-null  float64       \n",
      " 15  rawpoll_johnson   8397 non-null   float64       \n",
      " 16  rawpoll_mcmullin  90 non-null     float64       \n",
      " 17  adjpoll_clinton   12624 non-null  float64       \n",
      " 18  adjpoll_trump     12624 non-null  float64       \n",
      " 19  adjpoll_johnson   8397 non-null   float64       \n",
      " 20  adjpoll_mcmullin  90 non-null     float64       \n",
      " 21  multiversions     36 non-null     object        \n",
      " 22  url               12621 non-null  object        \n",
      " 23  poll_id           12624 non-null  int64         \n",
      " 24  question_id       12624 non-null  int64         \n",
      " 25  createddate       12624 non-null  datetime64[ns]\n",
      " 26  timestamp         12624 non-null  datetime64[ns]\n",
      "dtypes: datetime64[ns](5), float64(10), int64(3), object(9)\n",
      "memory usage: 2.6+ MB\n"
     ]
    }
   ],
   "source": [
    "df.info()"
   ]
  },
  {
   "cell_type": "code",
   "execution_count": 9,
   "metadata": {},
   "outputs": [],
   "source": [
    "df.to_pickle('polls_date_format.pkl')"
   ]
  },
  {
   "cell_type": "code",
   "execution_count": 11,
   "metadata": {},
   "outputs": [],
   "source": [
    "df_new = pd.read_pickle('polls_date_format.pkl')"
   ]
  },
  {
   "cell_type": "code",
   "execution_count": 12,
   "metadata": {},
   "outputs": [
    {
     "name": "stdout",
     "output_type": "stream",
     "text": [
      "<class 'pandas.core.frame.DataFrame'>\n",
      "RangeIndex: 12624 entries, 0 to 12623\n",
      "Data columns (total 27 columns):\n",
      " #   Column            Non-Null Count  Dtype         \n",
      "---  ------            --------------  -----         \n",
      " 0   cycle             12624 non-null  int64         \n",
      " 1   branch            12624 non-null  object        \n",
      " 2   type              12624 non-null  object        \n",
      " 3   matchup           12624 non-null  object        \n",
      " 4   forecastdate      12624 non-null  datetime64[ns]\n",
      " 5   state             12624 non-null  object        \n",
      " 6   startdate         12624 non-null  datetime64[ns]\n",
      " 7   enddate           12624 non-null  datetime64[ns]\n",
      " 8   pollster          12624 non-null  object        \n",
      " 9   grade             11337 non-null  object        \n",
      " 10  samplesize        12621 non-null  float64       \n",
      " 11  population        12624 non-null  object        \n",
      " 12  poll_wt           12624 non-null  float64       \n",
      " 13  rawpoll_clinton   12624 non-null  float64       \n",
      " 14  rawpoll_trump     12624 non-null  float64       \n",
      " 15  rawpoll_johnson   8397 non-null   float64       \n",
      " 16  rawpoll_mcmullin  90 non-null     float64       \n",
      " 17  adjpoll_clinton   12624 non-null  float64       \n",
      " 18  adjpoll_trump     12624 non-null  float64       \n",
      " 19  adjpoll_johnson   8397 non-null   float64       \n",
      " 20  adjpoll_mcmullin  90 non-null     float64       \n",
      " 21  multiversions     36 non-null     object        \n",
      " 22  url               12621 non-null  object        \n",
      " 23  poll_id           12624 non-null  int64         \n",
      " 24  question_id       12624 non-null  int64         \n",
      " 25  createddate       12624 non-null  datetime64[ns]\n",
      " 26  timestamp         12624 non-null  datetime64[ns]\n",
      "dtypes: datetime64[ns](5), float64(10), int64(3), object(9)\n",
      "memory usage: 2.6+ MB\n"
     ]
    }
   ],
   "source": [
    "df_new.info()"
   ]
  },
  {
   "cell_type": "code",
   "execution_count": null,
   "metadata": {},
   "outputs": [],
   "source": [
    "# lambda expressions"
   ]
  },
  {
   "cell_type": "code",
   "execution_count": 14,
   "metadata": {},
   "outputs": [],
   "source": [
    "def sum_two(x,y):\n",
    "    return x+y"
   ]
  },
  {
   "cell_type": "code",
   "execution_count": 15,
   "metadata": {},
   "outputs": [
    {
     "data": {
      "text/plain": [
       "9"
      ]
     },
     "execution_count": 15,
     "metadata": {},
     "output_type": "execute_result"
    }
   ],
   "source": [
    "sum_two(4,5)"
   ]
  },
  {
   "cell_type": "code",
   "execution_count": 17,
   "metadata": {},
   "outputs": [],
   "source": [
    "sum_two_2 = lambda x,y: x+y"
   ]
  },
  {
   "cell_type": "code",
   "execution_count": 18,
   "metadata": {},
   "outputs": [
    {
     "data": {
      "text/plain": [
       "11"
      ]
     },
     "execution_count": 18,
     "metadata": {},
     "output_type": "execute_result"
    }
   ],
   "source": [
    "sum_two_2(5,6)"
   ]
  },
  {
   "cell_type": "code",
   "execution_count": 22,
   "metadata": {},
   "outputs": [],
   "source": [
    "pass_fail = lambda x: 'Pass' if x>= 60 else 'Fail'"
   ]
  },
  {
   "cell_type": "code",
   "execution_count": 24,
   "metadata": {},
   "outputs": [
    {
     "data": {
      "text/plain": [
       "'Fail'"
      ]
     },
     "execution_count": 24,
     "metadata": {},
     "output_type": "execute_result"
    }
   ],
   "source": [
    "pass_fail(59)"
   ]
  },
  {
   "cell_type": "code",
   "execution_count": 25,
   "metadata": {},
   "outputs": [],
   "source": [
    "def grade_to_letter(grade):\n",
    "    if grade >=90:\n",
    "        return 'A'\n",
    "    elif grade >= 80:\n",
    "        return \"B\"\n",
    "    elif grade >=70:\n",
    "        return\"C\"\n",
    "    elif grade >=60:\n",
    "        return 'D'\n",
    "    else:\n",
    "        return \"F\""
   ]
  },
  {
   "cell_type": "code",
   "execution_count": null,
   "metadata": {},
   "outputs": [],
   "source": []
  },
  {
   "cell_type": "code",
   "execution_count": 26,
   "metadata": {},
   "outputs": [],
   "source": [
    "g_2_l = lambda g: 'A' if g >= 90 else('B' if g>=80 else('C' if g >= 70 else ('D' if g >= 60 else 'F')))"
   ]
  },
  {
   "cell_type": "code",
   "execution_count": 27,
   "metadata": {},
   "outputs": [
    {
     "data": {
      "text/plain": [
       "'D'"
      ]
     },
     "execution_count": 27,
     "metadata": {},
     "output_type": "execute_result"
    }
   ],
   "source": [
    "g_2_l(60)"
   ]
  },
  {
   "cell_type": "code",
   "execution_count": null,
   "metadata": {},
   "outputs": [],
   "source": []
  },
  {
   "cell_type": "markdown",
   "metadata": {},
   "source": [
    "## Add and modify columns"
   ]
  },
  {
   "cell_type": "code",
   "execution_count": null,
   "metadata": {},
   "outputs": [],
   "source": [
    "# add a column for the mean number of acres burned per day"
   ]
  },
  {
   "cell_type": "code",
   "execution_count": null,
   "metadata": {},
   "outputs": [],
   "source": [
    "# add a column that uses a lambda to calculate the mean number of acres burned per day"
   ]
  },
  {
   "cell_type": "code",
   "execution_count": null,
   "metadata": {},
   "outputs": [],
   "source": [
    "# write a function to convert the fire_month column from an int value to a string value such as 'Jan', 'Feb', etc."
   ]
  },
  {
   "cell_type": "code",
   "execution_count": null,
   "metadata": {},
   "outputs": [],
   "source": [
    "# apply the function to the fire_month column"
   ]
  },
  {
   "cell_type": "markdown",
   "metadata": {},
   "source": [
    "## Work with indexes"
   ]
  },
  {
   "cell_type": "code",
   "execution_count": null,
   "metadata": {},
   "outputs": [],
   "source": [
    "# set an index on the state, fire_year, and fire_month columns"
   ]
  },
  {
   "cell_type": "code",
   "execution_count": null,
   "metadata": {},
   "outputs": [],
   "source": [
    "# unstack the fire_month column and store the resulting DataFrame in a different variable"
   ]
  },
  {
   "cell_type": "code",
   "execution_count": null,
   "metadata": {},
   "outputs": [],
   "source": [
    "# reset the index for the fires_by_month DataFrame"
   ]
  },
  {
   "cell_type": "markdown",
   "metadata": {},
   "source": [
    "## Combine data"
   ]
  },
  {
   "cell_type": "code",
   "execution_count": null,
   "metadata": {},
   "outputs": [],
   "source": [
    "# create new fire data\n",
    "new_fire = pd.DataFrame(data=[['CA',2021,'June',1000,100,1,10,10]], columns=fires_by_month.columns)\n",
    "new_fire.head()"
   ]
  },
  {
   "cell_type": "code",
   "execution_count": null,
   "metadata": {},
   "outputs": [],
   "source": [
    "# add the new fire data to the end of the original DataFrame"
   ]
  },
  {
   "cell_type": "code",
   "execution_count": null,
   "metadata": {},
   "outputs": [],
   "source": [
    "# display the last five rows of the original DataFrame"
   ]
  },
  {
   "cell_type": "code",
   "execution_count": null,
   "metadata": {},
   "outputs": [],
   "source": [
    "# reset the index for the original DataFrame, dropping the numeric index"
   ]
  },
  {
   "cell_type": "code",
   "execution_count": null,
   "metadata": {},
   "outputs": [],
   "source": [
    "#display the last five rows of the DataFrame again"
   ]
  },
  {
   "cell_type": "markdown",
   "metadata": {},
   "source": [
    "## Fix the SettingWithCopyWarning"
   ]
  },
  {
   "cell_type": "code",
   "execution_count": null,
   "metadata": {},
   "outputs": [],
   "source": [
    "# the cell that causes the SettingWithCopyWarning\n",
    "fires_ak = fires_by_month.query('state == \"AK\"')\n"
   ]
  },
  {
   "cell_type": "code",
   "execution_count": null,
   "metadata": {},
   "outputs": [],
   "source": [
    "fires_ak.mean_acres_per_day = fires_ak.mean_acres_per_day.round()\n",
    "fires_ak.head()"
   ]
  },
  {
   "cell_type": "code",
   "execution_count": null,
   "metadata": {},
   "outputs": [],
   "source": []
  }
 ],
 "metadata": {
  "kernelspec": {
   "display_name": "Python 3 (ipykernel)",
   "language": "python",
   "name": "python3"
  },
  "language_info": {
   "codemirror_mode": {
    "name": "ipython",
    "version": 3
   },
   "file_extension": ".py",
   "mimetype": "text/x-python",
   "name": "python",
   "nbconvert_exporter": "python",
   "pygments_lexer": "ipython3",
   "version": "3.11.5"
  }
 },
 "nbformat": 4,
 "nbformat_minor": 4
}
