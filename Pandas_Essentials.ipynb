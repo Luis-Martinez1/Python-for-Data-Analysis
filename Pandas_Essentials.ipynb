{
 "cells": [
  {
   "cell_type": "code",
   "execution_count": 1,
   "id": "d3de71d7",
   "metadata": {},
   "outputs": [],
   "source": [
    "import pandas as pd"
   ]
  },
  {
   "cell_type": "code",
   "execution_count": 2,
   "id": "69b494b6",
   "metadata": {},
   "outputs": [
    {
     "data": {
      "text/plain": [
       "'2.0.3'"
      ]
     },
     "execution_count": 2,
     "metadata": {},
     "output_type": "execute_result"
    }
   ],
   "source": [
    "pd.__version__"
   ]
  },
  {
   "cell_type": "code",
   "execution_count": 3,
   "id": "22256027",
   "metadata": {},
   "outputs": [],
   "source": [
    "list_1=[1900, '1-4 Years', 1983.4]"
   ]
  },
  {
   "cell_type": "code",
   "execution_count": 5,
   "id": "d2f1688e",
   "metadata": {},
   "outputs": [
    {
     "data": {
      "text/plain": [
       "[1900, '1-4 Years', 1983.4]"
      ]
     },
     "execution_count": 5,
     "metadata": {},
     "output_type": "execute_result"
    }
   ],
   "source": [
    "list_1"
   ]
  },
  {
   "cell_type": "code",
   "execution_count": 6,
   "id": "898e7c5a",
   "metadata": {},
   "outputs": [],
   "source": [
    "list_2=[1901, '1-4 Years', 1965.0]"
   ]
  },
  {
   "cell_type": "code",
   "execution_count": 8,
   "id": "419fe02d",
   "metadata": {},
   "outputs": [
    {
     "data": {
      "text/plain": [
       "[1901, '1-4 Years', 1965.0]"
      ]
     },
     "execution_count": 8,
     "metadata": {},
     "output_type": "execute_result"
    }
   ],
   "source": [
    "list_2"
   ]
  },
  {
   "cell_type": "code",
   "execution_count": 9,
   "id": "b8f652ef",
   "metadata": {},
   "outputs": [],
   "source": [
    "# create a 2 dimensional list\n",
    "list_2d= [list_1, list_2]"
   ]
  },
  {
   "cell_type": "code",
   "execution_count": 10,
   "id": "ef62e589",
   "metadata": {},
   "outputs": [
    {
     "data": {
      "text/plain": [
       "[[1900, '1-4 Years', 1983.4], [1901, '1-4 Years', 1965.0]]"
      ]
     },
     "execution_count": 10,
     "metadata": {},
     "output_type": "execute_result"
    }
   ],
   "source": [
    "list_2d"
   ]
  },
  {
   "cell_type": "code",
   "execution_count": 11,
   "id": "e3723ac1",
   "metadata": {},
   "outputs": [],
   "source": [
    "# with pandas constructor you can create a dataframe\n",
    "# pandas methods and constructors\n",
    "pd_df=pd.DataFrame(list_2d)"
   ]
  },
  {
   "cell_type": "code",
   "execution_count": 13,
   "id": "aacef6ca",
   "metadata": {},
   "outputs": [
    {
     "data": {
      "text/html": [
       "<div>\n",
       "<style scoped>\n",
       "    .dataframe tbody tr th:only-of-type {\n",
       "        vertical-align: middle;\n",
       "    }\n",
       "\n",
       "    .dataframe tbody tr th {\n",
       "        vertical-align: top;\n",
       "    }\n",
       "\n",
       "    .dataframe thead th {\n",
       "        text-align: right;\n",
       "    }\n",
       "</style>\n",
       "<table border=\"1\" class=\"dataframe\">\n",
       "  <thead>\n",
       "    <tr style=\"text-align: right;\">\n",
       "      <th></th>\n",
       "      <th>0</th>\n",
       "      <th>1</th>\n",
       "      <th>2</th>\n",
       "    </tr>\n",
       "  </thead>\n",
       "  <tbody>\n",
       "    <tr>\n",
       "      <th>0</th>\n",
       "      <td>1900</td>\n",
       "      <td>1-4 Years</td>\n",
       "      <td>1983.4</td>\n",
       "    </tr>\n",
       "    <tr>\n",
       "      <th>1</th>\n",
       "      <td>1901</td>\n",
       "      <td>1-4 Years</td>\n",
       "      <td>1965.0</td>\n",
       "    </tr>\n",
       "  </tbody>\n",
       "</table>\n",
       "</div>"
      ],
      "text/plain": [
       "      0          1       2\n",
       "0  1900  1-4 Years  1983.4\n",
       "1  1901  1-4 Years  1965.0"
      ]
     },
     "execution_count": 13,
     "metadata": {},
     "output_type": "execute_result"
    }
   ],
   "source": [
    "pd_df # no column names or headers"
   ]
  },
  {
   "cell_type": "code",
   "execution_count": 14,
   "id": "d6a8dc84",
   "metadata": {},
   "outputs": [],
   "source": [
    "pd_df=pd.DataFrame(list_2d, columns=['Year', 'Age Group', 'Death Rate'])"
   ]
  },
  {
   "cell_type": "code",
   "execution_count": 15,
   "id": "e03ed5ee",
   "metadata": {},
   "outputs": [
    {
     "data": {
      "text/html": [
       "<div>\n",
       "<style scoped>\n",
       "    .dataframe tbody tr th:only-of-type {\n",
       "        vertical-align: middle;\n",
       "    }\n",
       "\n",
       "    .dataframe tbody tr th {\n",
       "        vertical-align: top;\n",
       "    }\n",
       "\n",
       "    .dataframe thead th {\n",
       "        text-align: right;\n",
       "    }\n",
       "</style>\n",
       "<table border=\"1\" class=\"dataframe\">\n",
       "  <thead>\n",
       "    <tr style=\"text-align: right;\">\n",
       "      <th></th>\n",
       "      <th>Year</th>\n",
       "      <th>Age Group</th>\n",
       "      <th>Death Rate</th>\n",
       "    </tr>\n",
       "  </thead>\n",
       "  <tbody>\n",
       "    <tr>\n",
       "      <th>0</th>\n",
       "      <td>1900</td>\n",
       "      <td>1-4 Years</td>\n",
       "      <td>1983.4</td>\n",
       "    </tr>\n",
       "    <tr>\n",
       "      <th>1</th>\n",
       "      <td>1901</td>\n",
       "      <td>1-4 Years</td>\n",
       "      <td>1965.0</td>\n",
       "    </tr>\n",
       "  </tbody>\n",
       "</table>\n",
       "</div>"
      ],
      "text/plain": [
       "   Year  Age Group  Death Rate\n",
       "0  1900  1-4 Years      1983.4\n",
       "1  1901  1-4 Years      1965.0"
      ]
     },
     "execution_count": 15,
     "metadata": {},
     "output_type": "execute_result"
    }
   ],
   "source": [
    "pd_df # create DF using list of lists"
   ]
  },
  {
   "cell_type": "code",
   "execution_count": 16,
   "id": "202556d0",
   "metadata": {},
   "outputs": [],
   "source": [
    "# another way is to use a Dictionary"
   ]
  },
  {
   "cell_type": "code",
   "execution_count": 17,
   "id": "6a024703",
   "metadata": {},
   "outputs": [],
   "source": [
    "# create a dictionary to pass into DF constructor\n",
    "# keys are column headers, values are values\n",
    "data_dict= {'Year':[1900, 1901], 'Age Group':['1-4 Years', '1-4 Years'], 'Death Rate':[1983.4, 1695.0]}"
   ]
  },
  {
   "cell_type": "code",
   "execution_count": 18,
   "id": "e22d45e9",
   "metadata": {},
   "outputs": [
    {
     "data": {
      "text/plain": [
       "{'Year': [1900, 1901],\n",
       " 'Age Group': ['1-4 Years', '1-4 Years'],\n",
       " 'Death Rate': [1983.4, 1695.0]}"
      ]
     },
     "execution_count": 18,
     "metadata": {},
     "output_type": "execute_result"
    }
   ],
   "source": [
    "data_dict"
   ]
  },
  {
   "cell_type": "code",
   "execution_count": 19,
   "id": "cfd862f7",
   "metadata": {},
   "outputs": [],
   "source": [
    "# read into DF constructor\n",
    "pd_df_dict=pd.DataFrame(data_dict)"
   ]
  },
  {
   "cell_type": "code",
   "execution_count": 22,
   "id": "8203a288",
   "metadata": {},
   "outputs": [
    {
     "data": {
      "text/html": [
       "<div>\n",
       "<style scoped>\n",
       "    .dataframe tbody tr th:only-of-type {\n",
       "        vertical-align: middle;\n",
       "    }\n",
       "\n",
       "    .dataframe tbody tr th {\n",
       "        vertical-align: top;\n",
       "    }\n",
       "\n",
       "    .dataframe thead th {\n",
       "        text-align: right;\n",
       "    }\n",
       "</style>\n",
       "<table border=\"1\" class=\"dataframe\">\n",
       "  <thead>\n",
       "    <tr style=\"text-align: right;\">\n",
       "      <th></th>\n",
       "      <th>Year</th>\n",
       "      <th>Age Group</th>\n",
       "      <th>Death Rate</th>\n",
       "    </tr>\n",
       "  </thead>\n",
       "  <tbody>\n",
       "    <tr>\n",
       "      <th>0</th>\n",
       "      <td>1900</td>\n",
       "      <td>1-4 Years</td>\n",
       "      <td>1983.4</td>\n",
       "    </tr>\n",
       "    <tr>\n",
       "      <th>1</th>\n",
       "      <td>1901</td>\n",
       "      <td>1-4 Years</td>\n",
       "      <td>1695.0</td>\n",
       "    </tr>\n",
       "  </tbody>\n",
       "</table>\n",
       "</div>"
      ],
      "text/plain": [
       "   Year  Age Group  Death Rate\n",
       "0  1900  1-4 Years      1983.4\n",
       "1  1901  1-4 Years      1695.0"
      ]
     },
     "execution_count": 22,
     "metadata": {},
     "output_type": "execute_result"
    }
   ],
   "source": [
    "pd_df_dict"
   ]
  },
  {
   "cell_type": "code",
   "execution_count": 23,
   "id": "d8d1bceb",
   "metadata": {},
   "outputs": [],
   "source": [
    "# check out a url\n",
    "poll_url = 'http://projects.fivethirtyeight.com/general-model/president_general_polls_2016.csv'"
   ]
  },
  {
   "cell_type": "code",
   "execution_count": 24,
   "id": "5e3e01a2",
   "metadata": {},
   "outputs": [
    {
     "data": {
      "text/plain": [
       "'http://projects.fivethirtyeight.com/general-model/president_general_polls_2016.csv'"
      ]
     },
     "execution_count": 24,
     "metadata": {},
     "output_type": "execute_result"
    }
   ],
   "source": [
    "poll_url"
   ]
  },
  {
   "cell_type": "code",
   "execution_count": 25,
   "id": "580b0f4a",
   "metadata": {},
   "outputs": [],
   "source": [
    "# using url csv to load into DF pandas environment\n",
    "df_url=pd.read_csv(poll_url)"
   ]
  },
  {
   "cell_type": "code",
   "execution_count": 41,
   "id": "22a416df",
   "metadata": {
    "scrolled": true
   },
   "outputs": [
    {
     "data": {
      "text/html": [
       "<div>\n",
       "<style scoped>\n",
       "    .dataframe tbody tr th:only-of-type {\n",
       "        vertical-align: middle;\n",
       "    }\n",
       "\n",
       "    .dataframe tbody tr th {\n",
       "        vertical-align: top;\n",
       "    }\n",
       "\n",
       "    .dataframe thead th {\n",
       "        text-align: right;\n",
       "    }\n",
       "</style>\n",
       "<table border=\"1\" class=\"dataframe\">\n",
       "  <thead>\n",
       "    <tr style=\"text-align: right;\">\n",
       "      <th></th>\n",
       "      <th>cycle</th>\n",
       "      <th>branch</th>\n",
       "      <th>type</th>\n",
       "      <th>matchup</th>\n",
       "      <th>forecastdate</th>\n",
       "      <th>state</th>\n",
       "      <th>startdate</th>\n",
       "      <th>enddate</th>\n",
       "      <th>pollster</th>\n",
       "      <th>grade</th>\n",
       "      <th>...</th>\n",
       "      <th>adjpoll_clinton</th>\n",
       "      <th>adjpoll_trump</th>\n",
       "      <th>adjpoll_johnson</th>\n",
       "      <th>adjpoll_mcmullin</th>\n",
       "      <th>multiversions</th>\n",
       "      <th>url</th>\n",
       "      <th>poll_id</th>\n",
       "      <th>question_id</th>\n",
       "      <th>createddate</th>\n",
       "      <th>timestamp</th>\n",
       "    </tr>\n",
       "  </thead>\n",
       "  <tbody>\n",
       "    <tr>\n",
       "      <th>5999</th>\n",
       "      <td>2016</td>\n",
       "      <td>President</td>\n",
       "      <td>now-cast</td>\n",
       "      <td>Clinton vs. Trump vs. Johnson</td>\n",
       "      <td>11/8/16</td>\n",
       "      <td>Ohio</td>\n",
       "      <td>8/17/2016</td>\n",
       "      <td>8/19/2016</td>\n",
       "      <td>YouGov</td>\n",
       "      <td>B</td>\n",
       "      <td>...</td>\n",
       "      <td>49.02962</td>\n",
       "      <td>44.23941</td>\n",
       "      <td>3.200217</td>\n",
       "      <td>NaN</td>\n",
       "      <td>NaN</td>\n",
       "      <td>https://d25d2506sfb94s.cloudfront.net/cumulus_...</td>\n",
       "      <td>44903</td>\n",
       "      <td>68879</td>\n",
       "      <td>8/21/16</td>\n",
       "      <td>09:24:53  8 Nov 2016</td>\n",
       "    </tr>\n",
       "    <tr>\n",
       "      <th>4091</th>\n",
       "      <td>2016</td>\n",
       "      <td>President</td>\n",
       "      <td>polls-plus</td>\n",
       "      <td>Clinton vs. Trump vs. Johnson</td>\n",
       "      <td>11/8/16</td>\n",
       "      <td>Utah</td>\n",
       "      <td>9/21/2016</td>\n",
       "      <td>9/26/2016</td>\n",
       "      <td>Google Consumer Surveys</td>\n",
       "      <td>B</td>\n",
       "      <td>...</td>\n",
       "      <td>29.27201</td>\n",
       "      <td>40.97612</td>\n",
       "      <td>13.082110</td>\n",
       "      <td>NaN</td>\n",
       "      <td>NaN</td>\n",
       "      <td>https://datastudio.google.com/u/0/#/org//repor...</td>\n",
       "      <td>46278</td>\n",
       "      <td>72337</td>\n",
       "      <td>9/28/16</td>\n",
       "      <td>09:35:33  8 Nov 2016</td>\n",
       "    </tr>\n",
       "  </tbody>\n",
       "</table>\n",
       "<p>2 rows × 27 columns</p>\n",
       "</div>"
      ],
      "text/plain": [
       "      cycle     branch        type                        matchup  \\\n",
       "5999   2016  President    now-cast  Clinton vs. Trump vs. Johnson   \n",
       "4091   2016  President  polls-plus  Clinton vs. Trump vs. Johnson   \n",
       "\n",
       "     forecastdate state  startdate    enddate                 pollster grade  \\\n",
       "5999      11/8/16  Ohio  8/17/2016  8/19/2016                   YouGov     B   \n",
       "4091      11/8/16  Utah  9/21/2016  9/26/2016  Google Consumer Surveys     B   \n",
       "\n",
       "      ...  adjpoll_clinton adjpoll_trump  adjpoll_johnson  adjpoll_mcmullin  \\\n",
       "5999  ...         49.02962      44.23941         3.200217               NaN   \n",
       "4091  ...         29.27201      40.97612        13.082110               NaN   \n",
       "\n",
       "      multiversions                                                url  \\\n",
       "5999            NaN  https://d25d2506sfb94s.cloudfront.net/cumulus_...   \n",
       "4091            NaN  https://datastudio.google.com/u/0/#/org//repor...   \n",
       "\n",
       "      poll_id  question_id  createddate             timestamp  \n",
       "5999    44903        68879      8/21/16  09:24:53  8 Nov 2016  \n",
       "4091    46278        72337      9/28/16  09:35:33  8 Nov 2016  \n",
       "\n",
       "[2 rows x 27 columns]"
      ]
     },
     "execution_count": 41,
     "metadata": {},
     "output_type": "execute_result"
    }
   ],
   "source": [
    "df_url.sample(2)"
   ]
  },
  {
   "cell_type": "code",
   "execution_count": 33,
   "id": "316951df",
   "metadata": {},
   "outputs": [],
   "source": [
    "# save DF into file\n",
    "df_url.to_csv('test.csv')\n",
    "# it saved to the directory you are working in on your device(Pythong-for-Data-Analysis)"
   ]
  },
  {
   "cell_type": "code",
   "execution_count": 34,
   "id": "79036ad9",
   "metadata": {},
   "outputs": [],
   "source": [
    "# Read from a file thats already saved in your working directory\n",
    "df_test_test=pd.read_csv('president_general_polls_2016.csv')"
   ]
  },
  {
   "cell_type": "code",
   "execution_count": 40,
   "id": "fcc2ddcc",
   "metadata": {
    "scrolled": true
   },
   "outputs": [
    {
     "data": {
      "text/html": [
       "<div>\n",
       "<style scoped>\n",
       "    .dataframe tbody tr th:only-of-type {\n",
       "        vertical-align: middle;\n",
       "    }\n",
       "\n",
       "    .dataframe tbody tr th {\n",
       "        vertical-align: top;\n",
       "    }\n",
       "\n",
       "    .dataframe thead th {\n",
       "        text-align: right;\n",
       "    }\n",
       "</style>\n",
       "<table border=\"1\" class=\"dataframe\">\n",
       "  <thead>\n",
       "    <tr style=\"text-align: right;\">\n",
       "      <th></th>\n",
       "      <th>cycle</th>\n",
       "      <th>branch</th>\n",
       "      <th>type</th>\n",
       "      <th>matchup</th>\n",
       "      <th>forecastdate</th>\n",
       "      <th>state</th>\n",
       "      <th>startdate</th>\n",
       "      <th>enddate</th>\n",
       "      <th>pollster</th>\n",
       "      <th>grade</th>\n",
       "      <th>...</th>\n",
       "      <th>adjpoll_clinton</th>\n",
       "      <th>adjpoll_trump</th>\n",
       "      <th>adjpoll_johnson</th>\n",
       "      <th>adjpoll_mcmullin</th>\n",
       "      <th>multiversions</th>\n",
       "      <th>url</th>\n",
       "      <th>poll_id</th>\n",
       "      <th>question_id</th>\n",
       "      <th>createddate</th>\n",
       "      <th>timestamp</th>\n",
       "    </tr>\n",
       "  </thead>\n",
       "  <tbody>\n",
       "    <tr>\n",
       "      <th>6002</th>\n",
       "      <td>2016</td>\n",
       "      <td>President</td>\n",
       "      <td>now-cast</td>\n",
       "      <td>Clinton vs. Trump vs. Johnson</td>\n",
       "      <td>11/8/16</td>\n",
       "      <td>New York</td>\n",
       "      <td>10/28/2016</td>\n",
       "      <td>11/3/2016</td>\n",
       "      <td>SurveyMonkey</td>\n",
       "      <td>C-</td>\n",
       "      <td>...</td>\n",
       "      <td>55.67313</td>\n",
       "      <td>31.80142</td>\n",
       "      <td>2.402406</td>\n",
       "      <td>NaN</td>\n",
       "      <td>NaN</td>\n",
       "      <td>https://www.surveymonkey.com/elections/map?pol...</td>\n",
       "      <td>48301</td>\n",
       "      <td>75668</td>\n",
       "      <td>11/4/16</td>\n",
       "      <td>09:24:53  8 Nov 2016</td>\n",
       "    </tr>\n",
       "    <tr>\n",
       "      <th>4854</th>\n",
       "      <td>2016</td>\n",
       "      <td>President</td>\n",
       "      <td>now-cast</td>\n",
       "      <td>Clinton vs. Trump vs. Johnson</td>\n",
       "      <td>11/8/16</td>\n",
       "      <td>Alabama</td>\n",
       "      <td>10/30/2016</td>\n",
       "      <td>11/6/2016</td>\n",
       "      <td>SurveyMonkey</td>\n",
       "      <td>C-</td>\n",
       "      <td>...</td>\n",
       "      <td>34.58204</td>\n",
       "      <td>53.39756</td>\n",
       "      <td>3.667262</td>\n",
       "      <td>NaN</td>\n",
       "      <td>NaN</td>\n",
       "      <td>https://www.surveymonkey.com/elections/map?pol...</td>\n",
       "      <td>48526</td>\n",
       "      <td>76070</td>\n",
       "      <td>11/7/16</td>\n",
       "      <td>09:24:53  8 Nov 2016</td>\n",
       "    </tr>\n",
       "  </tbody>\n",
       "</table>\n",
       "<p>2 rows × 27 columns</p>\n",
       "</div>"
      ],
      "text/plain": [
       "      cycle     branch      type                        matchup forecastdate  \\\n",
       "6002   2016  President  now-cast  Clinton vs. Trump vs. Johnson      11/8/16   \n",
       "4854   2016  President  now-cast  Clinton vs. Trump vs. Johnson      11/8/16   \n",
       "\n",
       "         state   startdate    enddate      pollster grade  ...  \\\n",
       "6002  New York  10/28/2016  11/3/2016  SurveyMonkey    C-  ...   \n",
       "4854   Alabama  10/30/2016  11/6/2016  SurveyMonkey    C-  ...   \n",
       "\n",
       "      adjpoll_clinton adjpoll_trump  adjpoll_johnson  adjpoll_mcmullin  \\\n",
       "6002         55.67313      31.80142         2.402406               NaN   \n",
       "4854         34.58204      53.39756         3.667262               NaN   \n",
       "\n",
       "      multiversions                                                url  \\\n",
       "6002            NaN  https://www.surveymonkey.com/elections/map?pol...   \n",
       "4854            NaN  https://www.surveymonkey.com/elections/map?pol...   \n",
       "\n",
       "      poll_id  question_id  createddate             timestamp  \n",
       "6002    48301        75668      11/4/16  09:24:53  8 Nov 2016  \n",
       "4854    48526        76070      11/7/16  09:24:53  8 Nov 2016  \n",
       "\n",
       "[2 rows x 27 columns]"
      ]
     },
     "execution_count": 40,
     "metadata": {},
     "output_type": "execute_result"
    }
   ],
   "source": [
    "df_test_test.sample(2)"
   ]
  },
  {
   "cell_type": "code",
   "execution_count": 39,
   "id": "0475583d",
   "metadata": {},
   "outputs": [
    {
     "data": {
      "text/html": [
       "<div>\n",
       "<style scoped>\n",
       "    .dataframe tbody tr th:only-of-type {\n",
       "        vertical-align: middle;\n",
       "    }\n",
       "\n",
       "    .dataframe tbody tr th {\n",
       "        vertical-align: top;\n",
       "    }\n",
       "\n",
       "    .dataframe thead th {\n",
       "        text-align: right;\n",
       "    }\n",
       "</style>\n",
       "<table border=\"1\" class=\"dataframe\">\n",
       "  <thead>\n",
       "    <tr style=\"text-align: right;\">\n",
       "      <th></th>\n",
       "      <th>cycle</th>\n",
       "      <th>branch</th>\n",
       "      <th>type</th>\n",
       "      <th>matchup</th>\n",
       "      <th>forecastdate</th>\n",
       "      <th>state</th>\n",
       "      <th>startdate</th>\n",
       "      <th>enddate</th>\n",
       "      <th>pollster</th>\n",
       "      <th>grade</th>\n",
       "      <th>...</th>\n",
       "      <th>adjpoll_clinton</th>\n",
       "      <th>adjpoll_trump</th>\n",
       "      <th>adjpoll_johnson</th>\n",
       "      <th>adjpoll_mcmullin</th>\n",
       "      <th>multiversions</th>\n",
       "      <th>url</th>\n",
       "      <th>poll_id</th>\n",
       "      <th>question_id</th>\n",
       "      <th>createddate</th>\n",
       "      <th>timestamp</th>\n",
       "    </tr>\n",
       "  </thead>\n",
       "  <tbody>\n",
       "    <tr>\n",
       "      <th>12622</th>\n",
       "      <td>2016</td>\n",
       "      <td>President</td>\n",
       "      <td>polls-only</td>\n",
       "      <td>Clinton vs. Trump vs. Johnson</td>\n",
       "      <td>11/8/16</td>\n",
       "      <td>Virginia</td>\n",
       "      <td>9/30/2016</td>\n",
       "      <td>10/6/2016</td>\n",
       "      <td>Ipsos</td>\n",
       "      <td>A-</td>\n",
       "      <td>...</td>\n",
       "      <td>49.57558</td>\n",
       "      <td>39.96954</td>\n",
       "      <td>NaN</td>\n",
       "      <td>NaN</td>\n",
       "      <td>NaN</td>\n",
       "      <td>http://www.reuters.com/statesofthenation/</td>\n",
       "      <td>46675</td>\n",
       "      <td>72969</td>\n",
       "      <td>10/10/16</td>\n",
       "      <td>09:14:14  8 Nov 2016</td>\n",
       "    </tr>\n",
       "    <tr>\n",
       "      <th>12623</th>\n",
       "      <td>2016</td>\n",
       "      <td>President</td>\n",
       "      <td>polls-only</td>\n",
       "      <td>Clinton vs. Trump vs. Johnson</td>\n",
       "      <td>11/8/16</td>\n",
       "      <td>Wisconsin</td>\n",
       "      <td>6/9/2016</td>\n",
       "      <td>6/12/2016</td>\n",
       "      <td>Marquette University</td>\n",
       "      <td>A</td>\n",
       "      <td>...</td>\n",
       "      <td>46.40999</td>\n",
       "      <td>39.19839</td>\n",
       "      <td>NaN</td>\n",
       "      <td>NaN</td>\n",
       "      <td>NaN</td>\n",
       "      <td>https://law.marquette.edu/poll/2016/06/15/new-...</td>\n",
       "      <td>44341</td>\n",
       "      <td>66966</td>\n",
       "      <td>6/15/16</td>\n",
       "      <td>09:14:14  8 Nov 2016</td>\n",
       "    </tr>\n",
       "  </tbody>\n",
       "</table>\n",
       "<p>2 rows × 27 columns</p>\n",
       "</div>"
      ],
      "text/plain": [
       "       cycle     branch        type                        matchup  \\\n",
       "12622   2016  President  polls-only  Clinton vs. Trump vs. Johnson   \n",
       "12623   2016  President  polls-only  Clinton vs. Trump vs. Johnson   \n",
       "\n",
       "      forecastdate      state  startdate    enddate              pollster  \\\n",
       "12622      11/8/16   Virginia  9/30/2016  10/6/2016                 Ipsos   \n",
       "12623      11/8/16  Wisconsin   6/9/2016  6/12/2016  Marquette University   \n",
       "\n",
       "      grade  ...  adjpoll_clinton adjpoll_trump  adjpoll_johnson  \\\n",
       "12622    A-  ...         49.57558      39.96954              NaN   \n",
       "12623     A  ...         46.40999      39.19839              NaN   \n",
       "\n",
       "       adjpoll_mcmullin  multiversions  \\\n",
       "12622               NaN            NaN   \n",
       "12623               NaN            NaN   \n",
       "\n",
       "                                                     url  poll_id  \\\n",
       "12622          http://www.reuters.com/statesofthenation/    46675   \n",
       "12623  https://law.marquette.edu/poll/2016/06/15/new-...    44341   \n",
       "\n",
       "       question_id  createddate             timestamp  \n",
       "12622        72969     10/10/16  09:14:14  8 Nov 2016  \n",
       "12623        66966      6/15/16  09:14:14  8 Nov 2016  \n",
       "\n",
       "[2 rows x 27 columns]"
      ]
     },
     "execution_count": 39,
     "metadata": {},
     "output_type": "execute_result"
    }
   ],
   "source": [
    "df_test_test.tail(2)"
   ]
  },
  {
   "cell_type": "code",
   "execution_count": 43,
   "id": "04646134",
   "metadata": {},
   "outputs": [
    {
     "data": {
      "text/plain": [
       "array([[2016, 'President', 'polls-plus', ..., 76192, '11/7/16',\n",
       "        '09:35:33  8 Nov 2016'],\n",
       "       [2016, 'President', 'polls-plus', ..., 76443, '11/7/16',\n",
       "        '09:35:33  8 Nov 2016'],\n",
       "       [2016, 'President', 'polls-plus', ..., 76636, '11/8/16',\n",
       "        '09:35:33  8 Nov 2016'],\n",
       "       ...,\n",
       "       [2016, 'President', 'polls-only', ..., 68743, '8/15/16',\n",
       "        '09:14:14  8 Nov 2016'],\n",
       "       [2016, 'President', 'polls-only', ..., 72969, '10/10/16',\n",
       "        '09:14:14  8 Nov 2016'],\n",
       "       [2016, 'President', 'polls-only', ..., 66966, '6/15/16',\n",
       "        '09:14:14  8 Nov 2016']], dtype=object)"
      ]
     },
     "execution_count": 43,
     "metadata": {},
     "output_type": "execute_result"
    }
   ],
   "source": [
    "# see attributes, values is an atribute not  a method\n",
    "df_test_test.values"
   ]
  },
  {
   "cell_type": "code",
   "execution_count": 44,
   "id": "39866588",
   "metadata": {},
   "outputs": [
    {
     "data": {
      "text/plain": [
       "(12624, 27)"
      ]
     },
     "execution_count": 44,
     "metadata": {},
     "output_type": "execute_result"
    }
   ],
   "source": [
    "# shape is an attribute\n",
    "df_test_test.shape"
   ]
  },
  {
   "cell_type": "code",
   "execution_count": 49,
   "id": "ee5c4b1c",
   "metadata": {},
   "outputs": [
    {
     "ename": "IndexError",
     "evalue": "tuple index out of range",
     "output_type": "error",
     "traceback": [
      "\u001b[0;31m---------------------------------------------------------------------------\u001b[0m",
      "\u001b[0;31mIndexError\u001b[0m                                Traceback (most recent call last)",
      "Cell \u001b[0;32mIn[49], line 2\u001b[0m\n\u001b[1;32m      1\u001b[0m \u001b[38;5;66;03m# index the tuple[0]\u001b[39;00m\n\u001b[0;32m----> 2\u001b[0m df_test_test\u001b[38;5;241m.\u001b[39mshape[\u001b[38;5;241m12623\u001b[39m]\n",
      "\u001b[0;31mIndexError\u001b[0m: tuple index out of range"
     ]
    }
   ],
   "source": [
    "# index the tuple[0]\n",
    "df_test_test.shape[12623]"
   ]
  },
  {
   "cell_type": "code",
   "execution_count": 50,
   "id": "b0a7222f",
   "metadata": {},
   "outputs": [
    {
     "data": {
      "text/plain": [
       "340848"
      ]
     },
     "execution_count": 50,
     "metadata": {},
     "output_type": "execute_result"
    }
   ],
   "source": [
    "# how many values are there altogether. mupltiple number of rows by number of columns\n",
    "df_test_test.size"
   ]
  },
  {
   "cell_type": "code",
   "execution_count": 51,
   "id": "66d3ac9a",
   "metadata": {},
   "outputs": [
    {
     "data": {
      "text/plain": [
       "Index(['cycle', 'branch', 'type', 'matchup', 'forecastdate', 'state',\n",
       "       'startdate', 'enddate', 'pollster', 'grade', 'samplesize', 'population',\n",
       "       'poll_wt', 'rawpoll_clinton', 'rawpoll_trump', 'rawpoll_johnson',\n",
       "       'rawpoll_mcmullin', 'adjpoll_clinton', 'adjpoll_trump',\n",
       "       'adjpoll_johnson', 'adjpoll_mcmullin', 'multiversions', 'url',\n",
       "       'poll_id', 'question_id', 'createddate', 'timestamp'],\n",
       "      dtype='object')"
      ]
     },
     "execution_count": 51,
     "metadata": {},
     "output_type": "execute_result"
    }
   ],
   "source": [
    "# another attribute that gives you all col headers in a DF\n",
    "df_test_test.columns"
   ]
  },
  {
   "cell_type": "code",
   "execution_count": null,
   "id": "cc10e075",
   "metadata": {},
   "outputs": [],
   "source": [
    "# change col headers so there are no spaces and reassign DF varaiable\n",
    "# df_test_test = df_test_test.columns.str.replace(' ', '')\n",
    "\n",
    "# there are no spaces but if there were they would be repalced"
   ]
  },
  {
   "cell_type": "code",
   "execution_count": 58,
   "id": "2d1c7a79",
   "metadata": {},
   "outputs": [
    {
     "data": {
      "text/html": [
       "<div>\n",
       "<style scoped>\n",
       "    .dataframe tbody tr th:only-of-type {\n",
       "        vertical-align: middle;\n",
       "    }\n",
       "\n",
       "    .dataframe tbody tr th {\n",
       "        vertical-align: top;\n",
       "    }\n",
       "\n",
       "    .dataframe thead th {\n",
       "        text-align: right;\n",
       "    }\n",
       "</style>\n",
       "<table border=\"1\" class=\"dataframe\">\n",
       "  <thead>\n",
       "    <tr style=\"text-align: right;\">\n",
       "      <th></th>\n",
       "      <th>count</th>\n",
       "      <th>mean</th>\n",
       "      <th>std</th>\n",
       "      <th>min</th>\n",
       "      <th>25%</th>\n",
       "      <th>50%</th>\n",
       "      <th>75%</th>\n",
       "      <th>max</th>\n",
       "    </tr>\n",
       "  </thead>\n",
       "  <tbody>\n",
       "    <tr>\n",
       "      <th>cycle</th>\n",
       "      <td>12624.0</td>\n",
       "      <td>2016.000000</td>\n",
       "      <td>0.000000</td>\n",
       "      <td>2016.000000</td>\n",
       "      <td>2016.000000</td>\n",
       "      <td>2016.000000</td>\n",
       "      <td>2016.000000</td>\n",
       "      <td>2016.000000</td>\n",
       "    </tr>\n",
       "    <tr>\n",
       "      <th>samplesize</th>\n",
       "      <td>12621.0</td>\n",
       "      <td>1148.216068</td>\n",
       "      <td>2630.647790</td>\n",
       "      <td>35.000000</td>\n",
       "      <td>447.000000</td>\n",
       "      <td>772.000000</td>\n",
       "      <td>1237.000000</td>\n",
       "      <td>84292.000000</td>\n",
       "    </tr>\n",
       "    <tr>\n",
       "      <th>poll_wt</th>\n",
       "      <td>12624.0</td>\n",
       "      <td>0.255431</td>\n",
       "      <td>0.669326</td>\n",
       "      <td>0.000000</td>\n",
       "      <td>0.000358</td>\n",
       "      <td>0.008172</td>\n",
       "      <td>0.086735</td>\n",
       "      <td>8.720654</td>\n",
       "    </tr>\n",
       "    <tr>\n",
       "      <th>rawpoll_clinton</th>\n",
       "      <td>12624.0</td>\n",
       "      <td>41.990860</td>\n",
       "      <td>7.727792</td>\n",
       "      <td>11.040000</td>\n",
       "      <td>38.000000</td>\n",
       "      <td>43.000000</td>\n",
       "      <td>46.200000</td>\n",
       "      <td>88.000000</td>\n",
       "    </tr>\n",
       "    <tr>\n",
       "      <th>rawpoll_trump</th>\n",
       "      <td>12624.0</td>\n",
       "      <td>39.828710</td>\n",
       "      <td>7.877327</td>\n",
       "      <td>4.000000</td>\n",
       "      <td>35.000000</td>\n",
       "      <td>40.000000</td>\n",
       "      <td>45.000000</td>\n",
       "      <td>68.000000</td>\n",
       "    </tr>\n",
       "    <tr>\n",
       "      <th>rawpoll_johnson</th>\n",
       "      <td>8397.0</td>\n",
       "      <td>7.381740</td>\n",
       "      <td>2.959274</td>\n",
       "      <td>0.000000</td>\n",
       "      <td>5.400000</td>\n",
       "      <td>7.000000</td>\n",
       "      <td>9.000000</td>\n",
       "      <td>25.000000</td>\n",
       "    </tr>\n",
       "    <tr>\n",
       "      <th>rawpoll_mcmullin</th>\n",
       "      <td>90.0</td>\n",
       "      <td>24.004000</td>\n",
       "      <td>5.638641</td>\n",
       "      <td>9.000000</td>\n",
       "      <td>22.000000</td>\n",
       "      <td>25.000000</td>\n",
       "      <td>28.000000</td>\n",
       "      <td>31.000000</td>\n",
       "    </tr>\n",
       "    <tr>\n",
       "      <th>adjpoll_clinton</th>\n",
       "      <td>12624.0</td>\n",
       "      <td>43.323005</td>\n",
       "      <td>7.095235</td>\n",
       "      <td>17.064950</td>\n",
       "      <td>40.210697</td>\n",
       "      <td>44.148045</td>\n",
       "      <td>46.908830</td>\n",
       "      <td>86.772180</td>\n",
       "    </tr>\n",
       "    <tr>\n",
       "      <th>adjpoll_trump</th>\n",
       "      <td>12624.0</td>\n",
       "      <td>42.667719</td>\n",
       "      <td>6.948256</td>\n",
       "      <td>4.372936</td>\n",
       "      <td>38.445588</td>\n",
       "      <td>42.716265</td>\n",
       "      <td>46.313520</td>\n",
       "      <td>72.437390</td>\n",
       "    </tr>\n",
       "    <tr>\n",
       "      <th>adjpoll_johnson</th>\n",
       "      <td>8397.0</td>\n",
       "      <td>4.655091</td>\n",
       "      <td>2.472636</td>\n",
       "      <td>-3.677883</td>\n",
       "      <td>3.136837</td>\n",
       "      <td>4.375392</td>\n",
       "      <td>5.761469</td>\n",
       "      <td>20.366840</td>\n",
       "    </tr>\n",
       "    <tr>\n",
       "      <th>adjpoll_mcmullin</th>\n",
       "      <td>90.0</td>\n",
       "      <td>24.511497</td>\n",
       "      <td>5.174286</td>\n",
       "      <td>11.028320</td>\n",
       "      <td>22.814548</td>\n",
       "      <td>25.136030</td>\n",
       "      <td>28.067610</td>\n",
       "      <td>31.583810</td>\n",
       "    </tr>\n",
       "    <tr>\n",
       "      <th>poll_id</th>\n",
       "      <td>12624.0</td>\n",
       "      <td>45910.899477</td>\n",
       "      <td>2864.536271</td>\n",
       "      <td>35362.000000</td>\n",
       "      <td>45151.750000</td>\n",
       "      <td>46384.500000</td>\n",
       "      <td>47741.250000</td>\n",
       "      <td>48922.000000</td>\n",
       "    </tr>\n",
       "    <tr>\n",
       "      <th>question_id</th>\n",
       "      <td>12624.0</td>\n",
       "      <td>71591.326046</td>\n",
       "      <td>4699.401001</td>\n",
       "      <td>47244.000000</td>\n",
       "      <td>69548.500000</td>\n",
       "      <td>72516.500000</td>\n",
       "      <td>74724.250000</td>\n",
       "      <td>76636.000000</td>\n",
       "    </tr>\n",
       "  </tbody>\n",
       "</table>\n",
       "</div>"
      ],
      "text/plain": [
       "                    count          mean          std           min  \\\n",
       "cycle             12624.0   2016.000000     0.000000   2016.000000   \n",
       "samplesize        12621.0   1148.216068  2630.647790     35.000000   \n",
       "poll_wt           12624.0      0.255431     0.669326      0.000000   \n",
       "rawpoll_clinton   12624.0     41.990860     7.727792     11.040000   \n",
       "rawpoll_trump     12624.0     39.828710     7.877327      4.000000   \n",
       "rawpoll_johnson    8397.0      7.381740     2.959274      0.000000   \n",
       "rawpoll_mcmullin     90.0     24.004000     5.638641      9.000000   \n",
       "adjpoll_clinton   12624.0     43.323005     7.095235     17.064950   \n",
       "adjpoll_trump     12624.0     42.667719     6.948256      4.372936   \n",
       "adjpoll_johnson    8397.0      4.655091     2.472636     -3.677883   \n",
       "adjpoll_mcmullin     90.0     24.511497     5.174286     11.028320   \n",
       "poll_id           12624.0  45910.899477  2864.536271  35362.000000   \n",
       "question_id       12624.0  71591.326046  4699.401001  47244.000000   \n",
       "\n",
       "                           25%           50%           75%           max  \n",
       "cycle              2016.000000   2016.000000   2016.000000   2016.000000  \n",
       "samplesize          447.000000    772.000000   1237.000000  84292.000000  \n",
       "poll_wt               0.000358      0.008172      0.086735      8.720654  \n",
       "rawpoll_clinton      38.000000     43.000000     46.200000     88.000000  \n",
       "rawpoll_trump        35.000000     40.000000     45.000000     68.000000  \n",
       "rawpoll_johnson       5.400000      7.000000      9.000000     25.000000  \n",
       "rawpoll_mcmullin     22.000000     25.000000     28.000000     31.000000  \n",
       "adjpoll_clinton      40.210697     44.148045     46.908830     86.772180  \n",
       "adjpoll_trump        38.445588     42.716265     46.313520     72.437390  \n",
       "adjpoll_johnson       3.136837      4.375392      5.761469     20.366840  \n",
       "adjpoll_mcmullin     22.814548     25.136030     28.067610     31.583810  \n",
       "poll_id           45151.750000  46384.500000  47741.250000  48922.000000  \n",
       "question_id       69548.500000  72516.500000  74724.250000  76636.000000  "
      ]
     },
     "execution_count": 58,
     "metadata": {},
     "output_type": "execute_result"
    }
   ],
   "source": [
    "# Methods: info(), nunique(), describe()\n",
    "#df_test_test.info()\n",
    "df_test_test.describe().T\n",
    "#df_test_test.nunique()"
   ]
  },
  {
   "cell_type": "code",
   "execution_count": 59,
   "id": "8648b3fe",
   "metadata": {},
   "outputs": [
    {
     "data": {
      "text/plain": [
       "0        2016\n",
       "1        2016\n",
       "2        2016\n",
       "3        2016\n",
       "4        2016\n",
       "         ... \n",
       "12619    2016\n",
       "12620    2016\n",
       "12621    2016\n",
       "12622    2016\n",
       "12623    2016\n",
       "Name: cycle, Length: 12624, dtype: int64"
      ]
     },
     "execution_count": 59,
     "metadata": {},
     "output_type": "execute_result"
    }
   ],
   "source": [
    "# using bracket method returns a series, only the one column from the DF\n",
    "df_test_test['cycle']"
   ]
  },
  {
   "cell_type": "code",
   "execution_count": 60,
   "id": "20f0d4f4",
   "metadata": {},
   "outputs": [
    {
     "data": {
      "text/html": [
       "<div>\n",
       "<style scoped>\n",
       "    .dataframe tbody tr th:only-of-type {\n",
       "        vertical-align: middle;\n",
       "    }\n",
       "\n",
       "    .dataframe tbody tr th {\n",
       "        vertical-align: top;\n",
       "    }\n",
       "\n",
       "    .dataframe thead th {\n",
       "        text-align: right;\n",
       "    }\n",
       "</style>\n",
       "<table border=\"1\" class=\"dataframe\">\n",
       "  <thead>\n",
       "    <tr style=\"text-align: right;\">\n",
       "      <th></th>\n",
       "      <th>cycle</th>\n",
       "    </tr>\n",
       "  </thead>\n",
       "  <tbody>\n",
       "    <tr>\n",
       "      <th>0</th>\n",
       "      <td>2016</td>\n",
       "    </tr>\n",
       "    <tr>\n",
       "      <th>1</th>\n",
       "      <td>2016</td>\n",
       "    </tr>\n",
       "    <tr>\n",
       "      <th>2</th>\n",
       "      <td>2016</td>\n",
       "    </tr>\n",
       "    <tr>\n",
       "      <th>3</th>\n",
       "      <td>2016</td>\n",
       "    </tr>\n",
       "    <tr>\n",
       "      <th>4</th>\n",
       "      <td>2016</td>\n",
       "    </tr>\n",
       "    <tr>\n",
       "      <th>...</th>\n",
       "      <td>...</td>\n",
       "    </tr>\n",
       "    <tr>\n",
       "      <th>12619</th>\n",
       "      <td>2016</td>\n",
       "    </tr>\n",
       "    <tr>\n",
       "      <th>12620</th>\n",
       "      <td>2016</td>\n",
       "    </tr>\n",
       "    <tr>\n",
       "      <th>12621</th>\n",
       "      <td>2016</td>\n",
       "    </tr>\n",
       "    <tr>\n",
       "      <th>12622</th>\n",
       "      <td>2016</td>\n",
       "    </tr>\n",
       "    <tr>\n",
       "      <th>12623</th>\n",
       "      <td>2016</td>\n",
       "    </tr>\n",
       "  </tbody>\n",
       "</table>\n",
       "<p>12624 rows × 1 columns</p>\n",
       "</div>"
      ],
      "text/plain": [
       "       cycle\n",
       "0       2016\n",
       "1       2016\n",
       "2       2016\n",
       "3       2016\n",
       "4       2016\n",
       "...      ...\n",
       "12619   2016\n",
       "12620   2016\n",
       "12621   2016\n",
       "12622   2016\n",
       "12623   2016\n",
       "\n",
       "[12624 rows x 1 columns]"
      ]
     },
     "execution_count": 60,
     "metadata": {},
     "output_type": "execute_result"
    }
   ],
   "source": [
    "# bracket method to get one column. the type is a DF not a series\n",
    "df_test_test[['cycle']]"
   ]
  },
  {
   "cell_type": "code",
   "execution_count": 61,
   "id": "85e6fae4",
   "metadata": {},
   "outputs": [
    {
     "data": {
      "text/html": [
       "<div>\n",
       "<style scoped>\n",
       "    .dataframe tbody tr th:only-of-type {\n",
       "        vertical-align: middle;\n",
       "    }\n",
       "\n",
       "    .dataframe tbody tr th {\n",
       "        vertical-align: top;\n",
       "    }\n",
       "\n",
       "    .dataframe thead th {\n",
       "        text-align: right;\n",
       "    }\n",
       "</style>\n",
       "<table border=\"1\" class=\"dataframe\">\n",
       "  <thead>\n",
       "    <tr style=\"text-align: right;\">\n",
       "      <th></th>\n",
       "      <th>cycle</th>\n",
       "      <th>samplesize</th>\n",
       "    </tr>\n",
       "  </thead>\n",
       "  <tbody>\n",
       "    <tr>\n",
       "      <th>0</th>\n",
       "      <td>2016</td>\n",
       "      <td>2220.0</td>\n",
       "    </tr>\n",
       "    <tr>\n",
       "      <th>1</th>\n",
       "      <td>2016</td>\n",
       "      <td>26574.0</td>\n",
       "    </tr>\n",
       "    <tr>\n",
       "      <th>2</th>\n",
       "      <td>2016</td>\n",
       "      <td>2195.0</td>\n",
       "    </tr>\n",
       "    <tr>\n",
       "      <th>3</th>\n",
       "      <td>2016</td>\n",
       "      <td>3677.0</td>\n",
       "    </tr>\n",
       "    <tr>\n",
       "      <th>4</th>\n",
       "      <td>2016</td>\n",
       "      <td>16639.0</td>\n",
       "    </tr>\n",
       "    <tr>\n",
       "      <th>...</th>\n",
       "      <td>...</td>\n",
       "      <td>...</td>\n",
       "    </tr>\n",
       "    <tr>\n",
       "      <th>12619</th>\n",
       "      <td>2016</td>\n",
       "      <td>469.0</td>\n",
       "    </tr>\n",
       "    <tr>\n",
       "      <th>12620</th>\n",
       "      <td>2016</td>\n",
       "      <td>653.0</td>\n",
       "    </tr>\n",
       "    <tr>\n",
       "      <th>12621</th>\n",
       "      <td>2016</td>\n",
       "      <td>717.0</td>\n",
       "    </tr>\n",
       "    <tr>\n",
       "      <th>12622</th>\n",
       "      <td>2016</td>\n",
       "      <td>479.0</td>\n",
       "    </tr>\n",
       "    <tr>\n",
       "      <th>12623</th>\n",
       "      <td>2016</td>\n",
       "      <td>666.0</td>\n",
       "    </tr>\n",
       "  </tbody>\n",
       "</table>\n",
       "<p>12624 rows × 2 columns</p>\n",
       "</div>"
      ],
      "text/plain": [
       "       cycle  samplesize\n",
       "0       2016      2220.0\n",
       "1       2016     26574.0\n",
       "2       2016      2195.0\n",
       "3       2016      3677.0\n",
       "4       2016     16639.0\n",
       "...      ...         ...\n",
       "12619   2016       469.0\n",
       "12620   2016       653.0\n",
       "12621   2016       717.0\n",
       "12622   2016       479.0\n",
       "12623   2016       666.0\n",
       "\n",
       "[12624 rows x 2 columns]"
      ]
     },
     "execution_count": 61,
     "metadata": {},
     "output_type": "execute_result"
    }
   ],
   "source": [
    "# to access multiple columns names you need double brackets\n",
    "df_test_test[['cycle', 'samplesize']]"
   ]
  },
  {
   "cell_type": "code",
   "execution_count": 62,
   "id": "34c3cc50",
   "metadata": {},
   "outputs": [
    {
     "data": {
      "text/plain": [
       "0        2016\n",
       "1        2016\n",
       "2        2016\n",
       "3        2016\n",
       "4        2016\n",
       "         ... \n",
       "12619    2016\n",
       "12620    2016\n",
       "12621    2016\n",
       "12622    2016\n",
       "12623    2016\n",
       "Name: cycle, Length: 12624, dtype: int64"
      ]
     },
     "execution_count": 62,
     "metadata": {},
     "output_type": "execute_result"
    }
   ],
   "source": [
    "# dot method notation to see one column\n",
    "df_test_test.cycle\n",
    "# if there is whitespace in the col name then use the bracket notation"
   ]
  },
  {
   "cell_type": "code",
   "execution_count": null,
   "id": "f7f69601",
   "metadata": {},
   "outputs": [],
   "source": []
  },
  {
   "cell_type": "code",
   "execution_count": null,
   "id": "b2d404d6",
   "metadata": {},
   "outputs": [],
   "source": []
  },
  {
   "cell_type": "code",
   "execution_count": null,
   "id": "1f33625c",
   "metadata": {},
   "outputs": [],
   "source": []
  },
  {
   "cell_type": "code",
   "execution_count": null,
   "id": "d833b42b",
   "metadata": {},
   "outputs": [],
   "source": []
  },
  {
   "cell_type": "code",
   "execution_count": null,
   "id": "b9efa17c",
   "metadata": {},
   "outputs": [],
   "source": []
  },
  {
   "cell_type": "code",
   "execution_count": null,
   "id": "a49c1110",
   "metadata": {},
   "outputs": [],
   "source": []
  },
  {
   "cell_type": "code",
   "execution_count": null,
   "id": "26b127d4",
   "metadata": {},
   "outputs": [],
   "source": []
  },
  {
   "cell_type": "code",
   "execution_count": null,
   "id": "50e12c32",
   "metadata": {},
   "outputs": [],
   "source": []
  },
  {
   "cell_type": "code",
   "execution_count": null,
   "id": "caf85740",
   "metadata": {},
   "outputs": [],
   "source": []
  },
  {
   "cell_type": "code",
   "execution_count": null,
   "id": "e2bb2bf5",
   "metadata": {},
   "outputs": [],
   "source": []
  },
  {
   "cell_type": "code",
   "execution_count": null,
   "id": "676f0b15",
   "metadata": {},
   "outputs": [],
   "source": []
  },
  {
   "cell_type": "code",
   "execution_count": null,
   "id": "921bcd65",
   "metadata": {},
   "outputs": [],
   "source": []
  },
  {
   "cell_type": "code",
   "execution_count": null,
   "id": "358f1e7d",
   "metadata": {},
   "outputs": [],
   "source": []
  }
 ],
 "metadata": {
  "kernelspec": {
   "display_name": "Python 3 (ipykernel)",
   "language": "python",
   "name": "python3"
  },
  "language_info": {
   "codemirror_mode": {
    "name": "ipython",
    "version": 3
   },
   "file_extension": ".py",
   "mimetype": "text/x-python",
   "name": "python",
   "nbconvert_exporter": "python",
   "pygments_lexer": "ipython3",
   "version": "3.11.5"
  }
 },
 "nbformat": 4,
 "nbformat_minor": 5
}
