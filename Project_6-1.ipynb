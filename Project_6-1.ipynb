{
 "cells": [
  {
   "cell_type": "markdown",
   "id": "dad37c0b",
   "metadata": {},
   "source": [
    "# Clean the ramen Data"
   ]
  },
  {
   "cell_type": "code",
   "execution_count": 2,
   "id": "af3aeb08",
   "metadata": {},
   "outputs": [],
   "source": [
    "# imports\n",
    "import pandas as pd\n",
    "import seaborn as sns\n",
    "import matplotlib.pyplot as plt\n"
   ]
  },
  {
   "cell_type": "code",
   "execution_count": 3,
   "id": "ace0b2cf",
   "metadata": {
    "scrolled": false
   },
   "outputs": [
    {
     "data": {
      "text/html": [
       "<div>\n",
       "<style scoped>\n",
       "    .dataframe tbody tr th:only-of-type {\n",
       "        vertical-align: middle;\n",
       "    }\n",
       "\n",
       "    .dataframe tbody tr th {\n",
       "        vertical-align: top;\n",
       "    }\n",
       "\n",
       "    .dataframe thead th {\n",
       "        text-align: right;\n",
       "    }\n",
       "</style>\n",
       "<table border=\"1\" class=\"dataframe\">\n",
       "  <thead>\n",
       "    <tr style=\"text-align: right;\">\n",
       "      <th></th>\n",
       "      <th>Brand</th>\n",
       "      <th>Variety</th>\n",
       "      <th>Style</th>\n",
       "      <th>Country</th>\n",
       "      <th>Stars</th>\n",
       "    </tr>\n",
       "  </thead>\n",
       "  <tbody>\n",
       "    <tr>\n",
       "      <th>0</th>\n",
       "      <td>New Touch</td>\n",
       "      <td>T's Restaurant Tantanmen</td>\n",
       "      <td>Cup</td>\n",
       "      <td>Japan</td>\n",
       "      <td>3.75</td>\n",
       "    </tr>\n",
       "    <tr>\n",
       "      <th>1</th>\n",
       "      <td>Just Way</td>\n",
       "      <td>Noodles Spicy Hot Sesame Spicy Hot Sesame Guan...</td>\n",
       "      <td>Pack</td>\n",
       "      <td>Taiwan</td>\n",
       "      <td>1.00</td>\n",
       "    </tr>\n",
       "    <tr>\n",
       "      <th>2</th>\n",
       "      <td>Nissin</td>\n",
       "      <td>Cup Noodles Chicken Vegetable</td>\n",
       "      <td>Cup</td>\n",
       "      <td>USA</td>\n",
       "      <td>2.25</td>\n",
       "    </tr>\n",
       "    <tr>\n",
       "      <th>3</th>\n",
       "      <td>Wei Lih</td>\n",
       "      <td>GGE Ramen Snack Tomato Flavor</td>\n",
       "      <td>Pack</td>\n",
       "      <td>Taiwan</td>\n",
       "      <td>2.75</td>\n",
       "    </tr>\n",
       "    <tr>\n",
       "      <th>4</th>\n",
       "      <td>Ching's Secret</td>\n",
       "      <td>Singapore Curry</td>\n",
       "      <td>Pack</td>\n",
       "      <td>India</td>\n",
       "      <td>3.75</td>\n",
       "    </tr>\n",
       "    <tr>\n",
       "      <th>...</th>\n",
       "      <td>...</td>\n",
       "      <td>...</td>\n",
       "      <td>...</td>\n",
       "      <td>...</td>\n",
       "      <td>...</td>\n",
       "    </tr>\n",
       "    <tr>\n",
       "      <th>2572</th>\n",
       "      <td>Vifon</td>\n",
       "      <td>Hu Tiu Nam Vang [\"Phnom Penh\" style] Asian Sty...</td>\n",
       "      <td>Bowl</td>\n",
       "      <td>Vietnam</td>\n",
       "      <td>3.50</td>\n",
       "    </tr>\n",
       "    <tr>\n",
       "      <th>2573</th>\n",
       "      <td>Wai Wai</td>\n",
       "      <td>Oriental Style Instant Noodles</td>\n",
       "      <td>Pack</td>\n",
       "      <td>Thailand</td>\n",
       "      <td>1.00</td>\n",
       "    </tr>\n",
       "    <tr>\n",
       "      <th>2574</th>\n",
       "      <td>Wai Wai</td>\n",
       "      <td>Tom Yum Shrimp</td>\n",
       "      <td>Pack</td>\n",
       "      <td>Thailand</td>\n",
       "      <td>2.00</td>\n",
       "    </tr>\n",
       "    <tr>\n",
       "      <th>2575</th>\n",
       "      <td>Wai Wai</td>\n",
       "      <td>Tom Yum Chili Flavor</td>\n",
       "      <td>Pack</td>\n",
       "      <td>Thailand</td>\n",
       "      <td>2.00</td>\n",
       "    </tr>\n",
       "    <tr>\n",
       "      <th>2576</th>\n",
       "      <td>Westbrae</td>\n",
       "      <td>Miso Ramen</td>\n",
       "      <td>Pack</td>\n",
       "      <td>USA</td>\n",
       "      <td>0.50</td>\n",
       "    </tr>\n",
       "  </tbody>\n",
       "</table>\n",
       "<p>2577 rows × 5 columns</p>\n",
       "</div>"
      ],
      "text/plain": [
       "               Brand                                            Variety Style  \\\n",
       "0          New Touch                          T's Restaurant Tantanmen    Cup   \n",
       "1           Just Way  Noodles Spicy Hot Sesame Spicy Hot Sesame Guan...  Pack   \n",
       "2             Nissin                      Cup Noodles Chicken Vegetable   Cup   \n",
       "3            Wei Lih                      GGE Ramen Snack Tomato Flavor  Pack   \n",
       "4     Ching's Secret                                    Singapore Curry  Pack   \n",
       "...              ...                                                ...   ...   \n",
       "2572           Vifon  Hu Tiu Nam Vang [\"Phnom Penh\" style] Asian Sty...  Bowl   \n",
       "2573         Wai Wai                     Oriental Style Instant Noodles  Pack   \n",
       "2574         Wai Wai                                     Tom Yum Shrimp  Pack   \n",
       "2575         Wai Wai                               Tom Yum Chili Flavor  Pack   \n",
       "2576        Westbrae                                         Miso Ramen  Pack   \n",
       "\n",
       "       Country  Stars  \n",
       "0        Japan   3.75  \n",
       "1       Taiwan   1.00  \n",
       "2          USA   2.25  \n",
       "3       Taiwan   2.75  \n",
       "4        India   3.75  \n",
       "...        ...    ...  \n",
       "2572   Vietnam   3.50  \n",
       "2573  Thailand   1.00  \n",
       "2574  Thailand   2.00  \n",
       "2575  Thailand   2.00  \n",
       "2576       USA   0.50  \n",
       "\n",
       "[2577 rows x 5 columns]"
      ]
     },
     "execution_count": 3,
     "metadata": {},
     "output_type": "execute_result"
    }
   ],
   "source": [
    "# 1. Read the data from the CSV file into a DataFrame and display the first five rows.\n",
    "\n",
    "# ramen-ratings file is in the local working directory\n",
    "file_path = 'ramen-ratings.csv'\n",
    "\n",
    "# Use pandas to read the CSV file\n",
    "df = pd.read_csv(file_path)\n",
    "\n",
    "# Display the first few rows of the DataFrame to verify the import\n",
    "df"
   ]
  },
  {
   "cell_type": "code",
   "execution_count": null,
   "id": "32222b72",
   "metadata": {},
   "outputs": [],
   "source": [
    "# 2. Rename the Stars column to Rating.\n"
   ]
  },
  {
   "cell_type": "code",
   "execution_count": null,
   "id": "88c3110b",
   "metadata": {},
   "outputs": [],
   "source": [
    "# 3. Convert the Style column to the category type.\n"
   ]
  },
  {
   "cell_type": "code",
   "execution_count": null,
   "id": "8c6d840d",
   "metadata": {},
   "outputs": [],
   "source": [
    "# 4. Drop the country column.\n"
   ]
  },
  {
   "cell_type": "code",
   "execution_count": null,
   "id": "187c9fee",
   "metadata": {},
   "outputs": [],
   "source": [
    "# 5. Check that the changes were applied to the DataFrame.\n"
   ]
  },
  {
   "cell_type": "code",
   "execution_count": null,
   "id": "100a56ed",
   "metadata": {},
   "outputs": [],
   "source": [
    "# 6. Rename the Brand column to Company and the Variety column to Product.\n"
   ]
  },
  {
   "cell_type": "code",
   "execution_count": null,
   "id": "b3337ee3",
   "metadata": {},
   "outputs": [],
   "source": [
    "# 7. Use the duplicated() method to display all rows with duplicate Company/Product\n",
    "# combinations.\n"
   ]
  },
  {
   "cell_type": "code",
   "execution_count": null,
   "id": "62fa2687",
   "metadata": {},
   "outputs": [],
   "source": [
    "# 8. Drop all rows with duplicate Company/Product combinations except for the first row in\n",
    "# each set. Then, display the data to get a count of the number of rows, and compare that\n",
    "# with the original number of rows to see how many were dropped.\n"
   ]
  },
  {
   "cell_type": "code",
   "execution_count": null,
   "id": "ca416f44",
   "metadata": {},
   "outputs": [],
   "source": [
    "# 9. Drop any rows that have missing values.\n"
   ]
  },
  {
   "cell_type": "code",
   "execution_count": null,
   "id": "72d23764",
   "metadata": {},
   "outputs": [],
   "source": [
    "# 10. Check again to make sure that all of your changes were applied."
   ]
  },
  {
   "cell_type": "code",
   "execution_count": null,
   "id": "d6ce3561",
   "metadata": {},
   "outputs": [],
   "source": []
  },
  {
   "cell_type": "code",
   "execution_count": null,
   "id": "70838895",
   "metadata": {},
   "outputs": [],
   "source": []
  },
  {
   "cell_type": "code",
   "execution_count": null,
   "id": "adcb77ac",
   "metadata": {},
   "outputs": [],
   "source": []
  },
  {
   "cell_type": "code",
   "execution_count": null,
   "id": "ad2f9802",
   "metadata": {},
   "outputs": [],
   "source": []
  }
 ],
 "metadata": {
  "kernelspec": {
   "display_name": "Python 3 (ipykernel)",
   "language": "python",
   "name": "python3"
  },
  "language_info": {
   "codemirror_mode": {
    "name": "ipython",
    "version": 3
   },
   "file_extension": ".py",
   "mimetype": "text/x-python",
   "name": "python",
   "nbconvert_exporter": "python",
   "pygments_lexer": "ipython3",
   "version": "3.11.5"
  }
 },
 "nbformat": 4,
 "nbformat_minor": 5
}
